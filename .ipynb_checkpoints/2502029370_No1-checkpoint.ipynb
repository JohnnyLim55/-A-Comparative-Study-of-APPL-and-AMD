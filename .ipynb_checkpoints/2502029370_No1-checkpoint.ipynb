{
  "nbformat": 4,
  "nbformat_minor": 0,
  "metadata": {
    "colab": {
      "provenance": [],
      "machine_shape": "hm",
      "gpuType": "T4",
      "collapsed_sections": [
        "YMLhXf-GJghM"
      ]
    },
    "kernelspec": {
      "name": "python3",
      "display_name": "Python 3"
    },
    "language_info": {
      "name": "python"
    },
    "accelerator": "GPU"
  },
  "cells": [
    {
      "cell_type": "markdown",
      "source": [
        "##No 1"
      ],
      "metadata": {
        "id": "RpNL5AKyQuvP"
      }
    },
    {
      "cell_type": "markdown",
      "source": [
        "Link: https://binusianorg-my.sharepoint.com/personal/johnny_binus_ac_id/_layouts/15/guestaccess.aspx?docid=05251066f5a414c5fa53e37c552403f25&authkey=ARGkV_hJ_qUEhhC84gD_3O0&e=eM38IS"
      ],
      "metadata": {
        "id": "ISSARAxHZUtY"
      }
    },
    {
      "cell_type": "code",
      "source": [
        "import pandas as pd\n",
        "import numpy as np\n",
        "import matplotlib.pyplot as plt\n",
        "from sklearn.model_selection import train_test_split\n",
        "from sklearn.preprocessing import MinMaxScaler\n",
        "from sklearn.metrics import mean_squared_error, mean_absolute_error\n",
        "from google.colab import drive\n",
        "import tensorflow\n",
        "import keras\n",
        "from keras.models import Sequential\n",
        "from keras import layers\n",
        "from keras.layers import LSTM, Dense, Dropout\n",
        "from keras.optimizers import Adam\n",
        "import keras.backend as K\n",
        "from keras.callbacks import EarlyStopping\n",
        "from keras.layers import GRU\n",
        "from keras.regularizers import l2\n",
        "from keras.optimizers import SGD"
      ],
      "metadata": {
        "id": "H9NJNRFCRrSJ"
      },
      "execution_count": null,
      "outputs": []
    },
    {
      "cell_type": "code",
      "execution_count": null,
      "metadata": {
        "colab": {
          "base_uri": "https://localhost:8080/"
        },
        "id": "iDTBcbjRQZsP",
        "outputId": "08efb45d-d0ae-458e-eb6b-49d425de1a4e"
      },
      "outputs": [
        {
          "output_type": "stream",
          "name": "stdout",
          "text": [
            "Drive already mounted at /content/drive; to attempt to forcibly remount, call drive.mount(\"/content/drive\", force_remount=True).\n"
          ]
        }
      ],
      "source": [
        "drive.mount('/content/drive')"
      ]
    },
    {
      "cell_type": "markdown",
      "source": [
        "###APPL"
      ],
      "metadata": {
        "id": "rv4J81DIIfwD"
      }
    },
    {
      "cell_type": "markdown",
      "source": [
        "####EDA"
      ],
      "metadata": {
        "id": "YMLhXf-GJghM"
      }
    },
    {
      "cell_type": "code",
      "source": [
        "df1 = pd.read_csv('/content/drive/MyDrive/UAS Deep Learning/AAPL.csv')\n",
        "df1.head()"
      ],
      "metadata": {
        "colab": {
          "base_uri": "https://localhost:8080/"
        },
        "id": "4FWt-jnPQySy",
        "outputId": "fcb761e6-aac9-4421-aa87-c36006b82fdc"
      },
      "execution_count": null,
      "outputs": [
        {
          "output_type": "execute_result",
          "data": {
            "text/plain": [
              "         Date      Open      High       Low     Close  Adj Close     Volume\n",
              "0  1980-12-12  0.513393  0.515625  0.513393  0.513393   0.406782  117258400\n",
              "1  1980-12-15  0.488839  0.488839  0.486607  0.486607   0.385558   43971200\n",
              "2  1980-12-16  0.453125  0.453125  0.450893  0.450893   0.357260   26432000\n",
              "3  1980-12-17  0.462054  0.464286  0.462054  0.462054   0.366103   21610400\n",
              "4  1980-12-18  0.475446  0.477679  0.475446  0.475446   0.376715   18362400"
            ],
            "text/html": [
              "\n",
              "  <div id=\"df-9a713bff-b968-433c-a9aa-985c239545ef\">\n",
              "    <div class=\"colab-df-container\">\n",
              "      <div>\n",
              "<style scoped>\n",
              "    .dataframe tbody tr th:only-of-type {\n",
              "        vertical-align: middle;\n",
              "    }\n",
              "\n",
              "    .dataframe tbody tr th {\n",
              "        vertical-align: top;\n",
              "    }\n",
              "\n",
              "    .dataframe thead th {\n",
              "        text-align: right;\n",
              "    }\n",
              "</style>\n",
              "<table border=\"1\" class=\"dataframe\">\n",
              "  <thead>\n",
              "    <tr style=\"text-align: right;\">\n",
              "      <th></th>\n",
              "      <th>Date</th>\n",
              "      <th>Open</th>\n",
              "      <th>High</th>\n",
              "      <th>Low</th>\n",
              "      <th>Close</th>\n",
              "      <th>Adj Close</th>\n",
              "      <th>Volume</th>\n",
              "    </tr>\n",
              "  </thead>\n",
              "  <tbody>\n",
              "    <tr>\n",
              "      <th>0</th>\n",
              "      <td>1980-12-12</td>\n",
              "      <td>0.513393</td>\n",
              "      <td>0.515625</td>\n",
              "      <td>0.513393</td>\n",
              "      <td>0.513393</td>\n",
              "      <td>0.406782</td>\n",
              "      <td>117258400</td>\n",
              "    </tr>\n",
              "    <tr>\n",
              "      <th>1</th>\n",
              "      <td>1980-12-15</td>\n",
              "      <td>0.488839</td>\n",
              "      <td>0.488839</td>\n",
              "      <td>0.486607</td>\n",
              "      <td>0.486607</td>\n",
              "      <td>0.385558</td>\n",
              "      <td>43971200</td>\n",
              "    </tr>\n",
              "    <tr>\n",
              "      <th>2</th>\n",
              "      <td>1980-12-16</td>\n",
              "      <td>0.453125</td>\n",
              "      <td>0.453125</td>\n",
              "      <td>0.450893</td>\n",
              "      <td>0.450893</td>\n",
              "      <td>0.357260</td>\n",
              "      <td>26432000</td>\n",
              "    </tr>\n",
              "    <tr>\n",
              "      <th>3</th>\n",
              "      <td>1980-12-17</td>\n",
              "      <td>0.462054</td>\n",
              "      <td>0.464286</td>\n",
              "      <td>0.462054</td>\n",
              "      <td>0.462054</td>\n",
              "      <td>0.366103</td>\n",
              "      <td>21610400</td>\n",
              "    </tr>\n",
              "    <tr>\n",
              "      <th>4</th>\n",
              "      <td>1980-12-18</td>\n",
              "      <td>0.475446</td>\n",
              "      <td>0.477679</td>\n",
              "      <td>0.475446</td>\n",
              "      <td>0.475446</td>\n",
              "      <td>0.376715</td>\n",
              "      <td>18362400</td>\n",
              "    </tr>\n",
              "  </tbody>\n",
              "</table>\n",
              "</div>\n",
              "      <button class=\"colab-df-convert\" onclick=\"convertToInteractive('df-9a713bff-b968-433c-a9aa-985c239545ef')\"\n",
              "              title=\"Convert this dataframe to an interactive table.\"\n",
              "              style=\"display:none;\">\n",
              "        \n",
              "  <svg xmlns=\"http://www.w3.org/2000/svg\" height=\"24px\"viewBox=\"0 0 24 24\"\n",
              "       width=\"24px\">\n",
              "    <path d=\"M0 0h24v24H0V0z\" fill=\"none\"/>\n",
              "    <path d=\"M18.56 5.44l.94 2.06.94-2.06 2.06-.94-2.06-.94-.94-2.06-.94 2.06-2.06.94zm-11 1L8.5 8.5l.94-2.06 2.06-.94-2.06-.94L8.5 2.5l-.94 2.06-2.06.94zm10 10l.94 2.06.94-2.06 2.06-.94-2.06-.94-.94-2.06-.94 2.06-2.06.94z\"/><path d=\"M17.41 7.96l-1.37-1.37c-.4-.4-.92-.59-1.43-.59-.52 0-1.04.2-1.43.59L10.3 9.45l-7.72 7.72c-.78.78-.78 2.05 0 2.83L4 21.41c.39.39.9.59 1.41.59.51 0 1.02-.2 1.41-.59l7.78-7.78 2.81-2.81c.8-.78.8-2.07 0-2.86zM5.41 20L4 18.59l7.72-7.72 1.47 1.35L5.41 20z\"/>\n",
              "  </svg>\n",
              "      </button>\n",
              "      \n",
              "  <style>\n",
              "    .colab-df-container {\n",
              "      display:flex;\n",
              "      flex-wrap:wrap;\n",
              "      gap: 12px;\n",
              "    }\n",
              "\n",
              "    .colab-df-convert {\n",
              "      background-color: #E8F0FE;\n",
              "      border: none;\n",
              "      border-radius: 50%;\n",
              "      cursor: pointer;\n",
              "      display: none;\n",
              "      fill: #1967D2;\n",
              "      height: 32px;\n",
              "      padding: 0 0 0 0;\n",
              "      width: 32px;\n",
              "    }\n",
              "\n",
              "    .colab-df-convert:hover {\n",
              "      background-color: #E2EBFA;\n",
              "      box-shadow: 0px 1px 2px rgba(60, 64, 67, 0.3), 0px 1px 3px 1px rgba(60, 64, 67, 0.15);\n",
              "      fill: #174EA6;\n",
              "    }\n",
              "\n",
              "    [theme=dark] .colab-df-convert {\n",
              "      background-color: #3B4455;\n",
              "      fill: #D2E3FC;\n",
              "    }\n",
              "\n",
              "    [theme=dark] .colab-df-convert:hover {\n",
              "      background-color: #434B5C;\n",
              "      box-shadow: 0px 1px 3px 1px rgba(0, 0, 0, 0.15);\n",
              "      filter: drop-shadow(0px 1px 2px rgba(0, 0, 0, 0.3));\n",
              "      fill: #FFFFFF;\n",
              "    }\n",
              "  </style>\n",
              "\n",
              "      <script>\n",
              "        const buttonEl =\n",
              "          document.querySelector('#df-9a713bff-b968-433c-a9aa-985c239545ef button.colab-df-convert');\n",
              "        buttonEl.style.display =\n",
              "          google.colab.kernel.accessAllowed ? 'block' : 'none';\n",
              "\n",
              "        async function convertToInteractive(key) {\n",
              "          const element = document.querySelector('#df-9a713bff-b968-433c-a9aa-985c239545ef');\n",
              "          const dataTable =\n",
              "            await google.colab.kernel.invokeFunction('convertToInteractive',\n",
              "                                                     [key], {});\n",
              "          if (!dataTable) return;\n",
              "\n",
              "          const docLinkHtml = 'Like what you see? Visit the ' +\n",
              "            '<a target=\"_blank\" href=https://colab.research.google.com/notebooks/data_table.ipynb>data table notebook</a>'\n",
              "            + ' to learn more about interactive tables.';\n",
              "          element.innerHTML = '';\n",
              "          dataTable['output_type'] = 'display_data';\n",
              "          await google.colab.output.renderOutput(dataTable, element);\n",
              "          const docLink = document.createElement('div');\n",
              "          docLink.innerHTML = docLinkHtml;\n",
              "          element.appendChild(docLink);\n",
              "        }\n",
              "      </script>\n",
              "    </div>\n",
              "  </div>\n",
              "  "
            ]
          },
          "metadata": {},
          "execution_count": 3
        }
      ]
    },
    {
      "cell_type": "code",
      "source": [
        "df1 = df1[['Date', 'Close']]\n",
        "df1.head()"
      ],
      "metadata": {
        "colab": {
          "base_uri": "https://localhost:8080/"
        },
        "id": "iqkfDIKt3CBg",
        "outputId": "a118d3b7-b59d-44a7-9821-307879c693a1"
      },
      "execution_count": null,
      "outputs": [
        {
          "output_type": "execute_result",
          "data": {
            "text/plain": [
              "         Date     Close\n",
              "0  1980-12-12  0.513393\n",
              "1  1980-12-15  0.486607\n",
              "2  1980-12-16  0.450893\n",
              "3  1980-12-17  0.462054\n",
              "4  1980-12-18  0.475446"
            ],
            "text/html": [
              "\n",
              "  <div id=\"df-256f0279-b238-4046-80af-2e567e3b1243\">\n",
              "    <div class=\"colab-df-container\">\n",
              "      <div>\n",
              "<style scoped>\n",
              "    .dataframe tbody tr th:only-of-type {\n",
              "        vertical-align: middle;\n",
              "    }\n",
              "\n",
              "    .dataframe tbody tr th {\n",
              "        vertical-align: top;\n",
              "    }\n",
              "\n",
              "    .dataframe thead th {\n",
              "        text-align: right;\n",
              "    }\n",
              "</style>\n",
              "<table border=\"1\" class=\"dataframe\">\n",
              "  <thead>\n",
              "    <tr style=\"text-align: right;\">\n",
              "      <th></th>\n",
              "      <th>Date</th>\n",
              "      <th>Close</th>\n",
              "    </tr>\n",
              "  </thead>\n",
              "  <tbody>\n",
              "    <tr>\n",
              "      <th>0</th>\n",
              "      <td>1980-12-12</td>\n",
              "      <td>0.513393</td>\n",
              "    </tr>\n",
              "    <tr>\n",
              "      <th>1</th>\n",
              "      <td>1980-12-15</td>\n",
              "      <td>0.486607</td>\n",
              "    </tr>\n",
              "    <tr>\n",
              "      <th>2</th>\n",
              "      <td>1980-12-16</td>\n",
              "      <td>0.450893</td>\n",
              "    </tr>\n",
              "    <tr>\n",
              "      <th>3</th>\n",
              "      <td>1980-12-17</td>\n",
              "      <td>0.462054</td>\n",
              "    </tr>\n",
              "    <tr>\n",
              "      <th>4</th>\n",
              "      <td>1980-12-18</td>\n",
              "      <td>0.475446</td>\n",
              "    </tr>\n",
              "  </tbody>\n",
              "</table>\n",
              "</div>\n",
              "      <button class=\"colab-df-convert\" onclick=\"convertToInteractive('df-256f0279-b238-4046-80af-2e567e3b1243')\"\n",
              "              title=\"Convert this dataframe to an interactive table.\"\n",
              "              style=\"display:none;\">\n",
              "        \n",
              "  <svg xmlns=\"http://www.w3.org/2000/svg\" height=\"24px\"viewBox=\"0 0 24 24\"\n",
              "       width=\"24px\">\n",
              "    <path d=\"M0 0h24v24H0V0z\" fill=\"none\"/>\n",
              "    <path d=\"M18.56 5.44l.94 2.06.94-2.06 2.06-.94-2.06-.94-.94-2.06-.94 2.06-2.06.94zm-11 1L8.5 8.5l.94-2.06 2.06-.94-2.06-.94L8.5 2.5l-.94 2.06-2.06.94zm10 10l.94 2.06.94-2.06 2.06-.94-2.06-.94-.94-2.06-.94 2.06-2.06.94z\"/><path d=\"M17.41 7.96l-1.37-1.37c-.4-.4-.92-.59-1.43-.59-.52 0-1.04.2-1.43.59L10.3 9.45l-7.72 7.72c-.78.78-.78 2.05 0 2.83L4 21.41c.39.39.9.59 1.41.59.51 0 1.02-.2 1.41-.59l7.78-7.78 2.81-2.81c.8-.78.8-2.07 0-2.86zM5.41 20L4 18.59l7.72-7.72 1.47 1.35L5.41 20z\"/>\n",
              "  </svg>\n",
              "      </button>\n",
              "      \n",
              "  <style>\n",
              "    .colab-df-container {\n",
              "      display:flex;\n",
              "      flex-wrap:wrap;\n",
              "      gap: 12px;\n",
              "    }\n",
              "\n",
              "    .colab-df-convert {\n",
              "      background-color: #E8F0FE;\n",
              "      border: none;\n",
              "      border-radius: 50%;\n",
              "      cursor: pointer;\n",
              "      display: none;\n",
              "      fill: #1967D2;\n",
              "      height: 32px;\n",
              "      padding: 0 0 0 0;\n",
              "      width: 32px;\n",
              "    }\n",
              "\n",
              "    .colab-df-convert:hover {\n",
              "      background-color: #E2EBFA;\n",
              "      box-shadow: 0px 1px 2px rgba(60, 64, 67, 0.3), 0px 1px 3px 1px rgba(60, 64, 67, 0.15);\n",
              "      fill: #174EA6;\n",
              "    }\n",
              "\n",
              "    [theme=dark] .colab-df-convert {\n",
              "      background-color: #3B4455;\n",
              "      fill: #D2E3FC;\n",
              "    }\n",
              "\n",
              "    [theme=dark] .colab-df-convert:hover {\n",
              "      background-color: #434B5C;\n",
              "      box-shadow: 0px 1px 3px 1px rgba(0, 0, 0, 0.15);\n",
              "      filter: drop-shadow(0px 1px 2px rgba(0, 0, 0, 0.3));\n",
              "      fill: #FFFFFF;\n",
              "    }\n",
              "  </style>\n",
              "\n",
              "      <script>\n",
              "        const buttonEl =\n",
              "          document.querySelector('#df-256f0279-b238-4046-80af-2e567e3b1243 button.colab-df-convert');\n",
              "        buttonEl.style.display =\n",
              "          google.colab.kernel.accessAllowed ? 'block' : 'none';\n",
              "\n",
              "        async function convertToInteractive(key) {\n",
              "          const element = document.querySelector('#df-256f0279-b238-4046-80af-2e567e3b1243');\n",
              "          const dataTable =\n",
              "            await google.colab.kernel.invokeFunction('convertToInteractive',\n",
              "                                                     [key], {});\n",
              "          if (!dataTable) return;\n",
              "\n",
              "          const docLinkHtml = 'Like what you see? Visit the ' +\n",
              "            '<a target=\"_blank\" href=https://colab.research.google.com/notebooks/data_table.ipynb>data table notebook</a>'\n",
              "            + ' to learn more about interactive tables.';\n",
              "          element.innerHTML = '';\n",
              "          dataTable['output_type'] = 'display_data';\n",
              "          await google.colab.output.renderOutput(dataTable, element);\n",
              "          const docLink = document.createElement('div');\n",
              "          docLink.innerHTML = docLinkHtml;\n",
              "          element.appendChild(docLink);\n",
              "        }\n",
              "      </script>\n",
              "    </div>\n",
              "  </div>\n",
              "  "
            ]
          },
          "metadata": {},
          "execution_count": 4
        }
      ]
    },
    {
      "cell_type": "code",
      "source": [
        "df1.info()"
      ],
      "metadata": {
        "id": "eGyiwYjE7AQN",
        "outputId": "add2f718-b629-4441-bb91-61fac16a9091",
        "colab": {
          "base_uri": "https://localhost:8080/"
        }
      },
      "execution_count": null,
      "outputs": [
        {
          "output_type": "stream",
          "name": "stdout",
          "text": [
            "<class 'pandas.core.frame.DataFrame'>\n",
            "RangeIndex: 9909 entries, 0 to 9908\n",
            "Data columns (total 2 columns):\n",
            " #   Column  Non-Null Count  Dtype  \n",
            "---  ------  --------------  -----  \n",
            " 0   Date    9909 non-null   object \n",
            " 1   Close   9909 non-null   float64\n",
            "dtypes: float64(1), object(1)\n",
            "memory usage: 155.0+ KB\n"
          ]
        }
      ]
    },
    {
      "cell_type": "code",
      "source": [
        "df1.describe().T"
      ],
      "metadata": {
        "id": "5XQ9yLd67Cif",
        "colab": {
          "base_uri": "https://localhost:8080/"
        },
        "outputId": "edfa116d-eae8-4e96-dbad-747f3c30bb62"
      },
      "execution_count": null,
      "outputs": [
        {
          "output_type": "execute_result",
          "data": {
            "text/plain": [
              "        count      mean        std       min       25%       50%        75%  \\\n",
              "Close  9909.0  32.61803  58.471899  0.196429  1.071429  1.732143  35.761429   \n",
              "\n",
              "              max  \n",
              "Close  327.200012  "
            ],
            "text/html": [
              "\n",
              "  <div id=\"df-ebcf7699-3a60-4020-ba68-b26b52bf994c\">\n",
              "    <div class=\"colab-df-container\">\n",
              "      <div>\n",
              "<style scoped>\n",
              "    .dataframe tbody tr th:only-of-type {\n",
              "        vertical-align: middle;\n",
              "    }\n",
              "\n",
              "    .dataframe tbody tr th {\n",
              "        vertical-align: top;\n",
              "    }\n",
              "\n",
              "    .dataframe thead th {\n",
              "        text-align: right;\n",
              "    }\n",
              "</style>\n",
              "<table border=\"1\" class=\"dataframe\">\n",
              "  <thead>\n",
              "    <tr style=\"text-align: right;\">\n",
              "      <th></th>\n",
              "      <th>count</th>\n",
              "      <th>mean</th>\n",
              "      <th>std</th>\n",
              "      <th>min</th>\n",
              "      <th>25%</th>\n",
              "      <th>50%</th>\n",
              "      <th>75%</th>\n",
              "      <th>max</th>\n",
              "    </tr>\n",
              "  </thead>\n",
              "  <tbody>\n",
              "    <tr>\n",
              "      <th>Close</th>\n",
              "      <td>9909.0</td>\n",
              "      <td>32.61803</td>\n",
              "      <td>58.471899</td>\n",
              "      <td>0.196429</td>\n",
              "      <td>1.071429</td>\n",
              "      <td>1.732143</td>\n",
              "      <td>35.761429</td>\n",
              "      <td>327.200012</td>\n",
              "    </tr>\n",
              "  </tbody>\n",
              "</table>\n",
              "</div>\n",
              "      <button class=\"colab-df-convert\" onclick=\"convertToInteractive('df-ebcf7699-3a60-4020-ba68-b26b52bf994c')\"\n",
              "              title=\"Convert this dataframe to an interactive table.\"\n",
              "              style=\"display:none;\">\n",
              "        \n",
              "  <svg xmlns=\"http://www.w3.org/2000/svg\" height=\"24px\"viewBox=\"0 0 24 24\"\n",
              "       width=\"24px\">\n",
              "    <path d=\"M0 0h24v24H0V0z\" fill=\"none\"/>\n",
              "    <path d=\"M18.56 5.44l.94 2.06.94-2.06 2.06-.94-2.06-.94-.94-2.06-.94 2.06-2.06.94zm-11 1L8.5 8.5l.94-2.06 2.06-.94-2.06-.94L8.5 2.5l-.94 2.06-2.06.94zm10 10l.94 2.06.94-2.06 2.06-.94-2.06-.94-.94-2.06-.94 2.06-2.06.94z\"/><path d=\"M17.41 7.96l-1.37-1.37c-.4-.4-.92-.59-1.43-.59-.52 0-1.04.2-1.43.59L10.3 9.45l-7.72 7.72c-.78.78-.78 2.05 0 2.83L4 21.41c.39.39.9.59 1.41.59.51 0 1.02-.2 1.41-.59l7.78-7.78 2.81-2.81c.8-.78.8-2.07 0-2.86zM5.41 20L4 18.59l7.72-7.72 1.47 1.35L5.41 20z\"/>\n",
              "  </svg>\n",
              "      </button>\n",
              "      \n",
              "  <style>\n",
              "    .colab-df-container {\n",
              "      display:flex;\n",
              "      flex-wrap:wrap;\n",
              "      gap: 12px;\n",
              "    }\n",
              "\n",
              "    .colab-df-convert {\n",
              "      background-color: #E8F0FE;\n",
              "      border: none;\n",
              "      border-radius: 50%;\n",
              "      cursor: pointer;\n",
              "      display: none;\n",
              "      fill: #1967D2;\n",
              "      height: 32px;\n",
              "      padding: 0 0 0 0;\n",
              "      width: 32px;\n",
              "    }\n",
              "\n",
              "    .colab-df-convert:hover {\n",
              "      background-color: #E2EBFA;\n",
              "      box-shadow: 0px 1px 2px rgba(60, 64, 67, 0.3), 0px 1px 3px 1px rgba(60, 64, 67, 0.15);\n",
              "      fill: #174EA6;\n",
              "    }\n",
              "\n",
              "    [theme=dark] .colab-df-convert {\n",
              "      background-color: #3B4455;\n",
              "      fill: #D2E3FC;\n",
              "    }\n",
              "\n",
              "    [theme=dark] .colab-df-convert:hover {\n",
              "      background-color: #434B5C;\n",
              "      box-shadow: 0px 1px 3px 1px rgba(0, 0, 0, 0.15);\n",
              "      filter: drop-shadow(0px 1px 2px rgba(0, 0, 0, 0.3));\n",
              "      fill: #FFFFFF;\n",
              "    }\n",
              "  </style>\n",
              "\n",
              "      <script>\n",
              "        const buttonEl =\n",
              "          document.querySelector('#df-ebcf7699-3a60-4020-ba68-b26b52bf994c button.colab-df-convert');\n",
              "        buttonEl.style.display =\n",
              "          google.colab.kernel.accessAllowed ? 'block' : 'none';\n",
              "\n",
              "        async function convertToInteractive(key) {\n",
              "          const element = document.querySelector('#df-ebcf7699-3a60-4020-ba68-b26b52bf994c');\n",
              "          const dataTable =\n",
              "            await google.colab.kernel.invokeFunction('convertToInteractive',\n",
              "                                                     [key], {});\n",
              "          if (!dataTable) return;\n",
              "\n",
              "          const docLinkHtml = 'Like what you see? Visit the ' +\n",
              "            '<a target=\"_blank\" href=https://colab.research.google.com/notebooks/data_table.ipynb>data table notebook</a>'\n",
              "            + ' to learn more about interactive tables.';\n",
              "          element.innerHTML = '';\n",
              "          dataTable['output_type'] = 'display_data';\n",
              "          await google.colab.output.renderOutput(dataTable, element);\n",
              "          const docLink = document.createElement('div');\n",
              "          docLink.innerHTML = docLinkHtml;\n",
              "          element.appendChild(docLink);\n",
              "        }\n",
              "      </script>\n",
              "    </div>\n",
              "  </div>\n",
              "  "
            ]
          },
          "metadata": {},
          "execution_count": 6
        }
      ]
    },
    {
      "cell_type": "code",
      "source": [
        "print(df1.isna().sum())\n",
        "df1.shape"
      ],
      "metadata": {
        "colab": {
          "base_uri": "https://localhost:8080/"
        },
        "id": "rscLQThvIsqd",
        "outputId": "e829508c-fbbf-4eb3-87cd-f02ac73d1948"
      },
      "execution_count": null,
      "outputs": [
        {
          "output_type": "stream",
          "name": "stdout",
          "text": [
            "Date     0\n",
            "Close    0\n",
            "dtype: int64\n"
          ]
        },
        {
          "output_type": "execute_result",
          "data": {
            "text/plain": [
              "(9909, 2)"
            ]
          },
          "metadata": {},
          "execution_count": 7
        }
      ]
    },
    {
      "cell_type": "markdown",
      "source": [
        "####preprocessing"
      ],
      "metadata": {
        "id": "c1HcNODybKdH"
      }
    },
    {
      "cell_type": "code",
      "source": [
        "df1_plot = df1.iloc[:,1].values\n",
        "print(df1_plot)\n",
        "plt.plot(df1_plot)\n",
        "plt.xlabel(\"Stock Price From 1980 - 2020\")\n",
        "plt.ylabel(\"Stock Price\")\n",
        "plt.title(\"APPLE Stock Price\")\n",
        "plt.show()"
      ],
      "metadata": {
        "colab": {
          "base_uri": "https://localhost:8080/",
          "height": 507
        },
        "id": "BYeBH7xxcJrN",
        "outputId": "384a8a7d-cb4a-4795-bebd-00154a6b9d88"
      },
      "execution_count": null,
      "outputs": [
        {
          "output_type": "stream",
          "name": "stdout",
          "text": [
            "[  0.51339287   0.48660713   0.45089287 ... 254.80999756 254.28999329\n",
            " 240.91000366]\n"
          ]
        },
        {
          "output_type": "display_data",
          "data": {
            "text/plain": [
              "<Figure size 640x480 with 1 Axes>"
            ],
            "image/png": "[encoded data removed]"
          },
          "metadata": {}
        }
      ]
    },
    {
      "cell_type": "code",
      "source": [
        "df1_close = df1['Close'].values\n",
        "df1_close"
      ],
      "metadata": {
        "colab": {
          "base_uri": "https://localhost:8080/"
        },
        "id": "1Dmt4Cv9dCwB",
        "outputId": "e7f67ebc-b05a-4f66-9734-23e35400a1fa"
      },
      "execution_count": null,
      "outputs": [
        {
          "output_type": "execute_result",
          "data": {
            "text/plain": [
              "array([  0.51339287,   0.48660713,   0.45089287, ..., 254.80999756,\n",
              "       254.28999329, 240.91000366])"
            ]
          },
          "metadata": {},
          "execution_count": 9
        }
      ]
    },
    {
      "cell_type": "code",
      "source": [
        "df1_data = df1_close.reshape(-1,1)\n",
        "df1_data.shape"
      ],
      "metadata": {
        "colab": {
          "base_uri": "https://localhost:8080/"
        },
        "id": "kGIPz6Icfe56",
        "outputId": "2394043f-7748-4abc-80be-cc348ac0db96"
      },
      "execution_count": null,
      "outputs": [
        {
          "output_type": "execute_result",
          "data": {
            "text/plain": [
              "(9909, 1)"
            ]
          },
          "metadata": {},
          "execution_count": 10
        }
      ]
    },
    {
      "cell_type": "code",
      "source": [
        "scaler = MinMaxScaler(feature_range = (0,1))\n",
        "df1_data = scaler.fit_transform(df1_data)"
      ],
      "metadata": {
        "id": "xFwmcYAybQ2X"
      },
      "execution_count": null,
      "outputs": []
    },
    {
      "cell_type": "code",
      "source": [
        "# Define window size and horizon\n",
        "WINDOW_SIZE = 5\n",
        "HORIZON = 1\n",
        "# Create empty lists for input and output data\n",
        "X = []\n",
        "y = []\n",
        "\n",
        "for i in range(len(df1_data) - WINDOW_SIZE - HORIZON + 1):\n",
        "    df1_input_window = df1_data[i:i + WINDOW_SIZE]\n",
        "    df1_output_window = df1_data[i + WINDOW_SIZE + HORIZON - 1]\n",
        "    X.append(df1_input_window)\n",
        "    y.append(df1_output_window)\n",
        "\n",
        "X = np.array(X)\n",
        "y = np.array(y)\n",
        "\n",
        "print(\"Input data:\")\n",
        "print(X)\n",
        "print(\"Output data:\")\n",
        "print(y)"
      ],
      "metadata": {
        "colab": {
          "base_uri": "https://localhost:8080/"
        },
        "id": "RfCng35DSUD7",
        "outputId": "f1a644de-144d-4514-a85b-6e828d6ffb6e"
      },
      "execution_count": null,
      "outputs": [
        {
          "output_type": "stream",
          "name": "stdout",
          "text": [
            "Input data:\n",
            "[[[9.69299159e-04]\n",
            "  [8.87386505e-04]\n",
            "  [7.78169755e-04]\n",
            "  [8.12299966e-04]\n",
            "  [8.53256293e-04]]\n",
            "\n",
            " [[8.87386505e-04]\n",
            "  [7.78169755e-04]\n",
            "  [8.12299966e-04]\n",
            "  [8.53256293e-04]\n",
            "  [9.41994880e-04]]\n",
            "\n",
            " [[7.78169755e-04]\n",
            "  [8.12299966e-04]\n",
            "  [8.53256293e-04]\n",
            "  [9.41994880e-04]\n",
            "  [1.01708151e-03]]\n",
            "\n",
            " ...\n",
            "\n",
            " [[6.85538562e-01]\n",
            "  [7.54375758e-01]\n",
            "  [7.50216780e-01]\n",
            "  [7.89727045e-01]\n",
            "  [7.57005701e-01]]\n",
            "\n",
            " [[7.54375758e-01]\n",
            "  [7.50216780e-01]\n",
            "  [7.89727045e-01]\n",
            "  [7.57005701e-01]\n",
            "  [7.78626234e-01]]\n",
            "\n",
            " [[7.50216780e-01]\n",
            "  [7.89727045e-01]\n",
            "  [7.57005701e-01]\n",
            "  [7.78626234e-01]\n",
            "  [7.77036025e-01]]]\n",
            "Output data:\n",
            "[[0.00094199]\n",
            " [0.00101708]\n",
            " [0.00108534]\n",
            " ...\n",
            " [0.77862623]\n",
            " [0.77703602]\n",
            " [0.73611907]]\n"
          ]
        }
      ]
    },
    {
      "cell_type": "code",
      "source": [
        "df1_train_size = int(len(X) * 0.8)\n",
        "df1_val_size = int(len(X) * 0.1)\n",
        "df1_test_size = len(X) - df1_train_size - df1_val_size\n",
        "\n",
        "df1_train_input = X[:df1_train_size]\n",
        "df1_train_output = y[:df1_train_size]\n",
        "df1_val_input = X[df1_train_size : df1_train_size + df1_val_size]\n",
        "df1_val_output = y[df1_train_size : df1_train_size+ df1_val_size]\n",
        "df1_test_input = X[df1_train_size + df1_val_size:]\n",
        "df1_test_output = y[df1_train_size + df1_val_size:]\n",
        "\n",
        "print(\"Train size: {}, Val size: {}, Test size: {}\".format(len(df1_train_input), len(df1_val_input), len(df1_test_input)))"
      ],
      "metadata": {
        "colab": {
          "base_uri": "https://localhost:8080/"
        },
        "id": "7bHlqnfbVvaB",
        "outputId": "7976825e-d03e-4e81-92b6-bd0052045606"
      },
      "execution_count": null,
      "outputs": [
        {
          "output_type": "stream",
          "name": "stdout",
          "text": [
            "Train size: 7923, Val size: 990, Test size: 991\n"
          ]
        }
      ]
    },
    {
      "cell_type": "markdown",
      "source": [
        "#### arsitektur baseline"
      ],
      "metadata": {
        "id": "jn3F_4PDONe6"
      }
    },
    {
      "cell_type": "code",
      "source": [
        "# Creating the baseline for LSTM model\n",
        "K.clear_session()\n",
        "baseline_model = Sequential()\n",
        "baseline_model.add(LSTM(units=50, activation='relu', input_shape=(WINDOW_SIZE, 1)))\n",
        "baseline_model.add(Dense(1))\n",
        "baseline_model.compile(optimizer='adam', loss='mean_squared_error')\n",
        "history = baseline_model.fit(df1_train_input, df1_train_output, epochs=10, batch_size=25, verbose=2)\n",
        "\n",
        "predict = baseline_model.predict(df1_test_input)\n",
        "\n",
        "rmse = np.sqrt(mean_squared_error(df1_test_output, predict))\n",
        "mae = mean_absolute_error(df1_test_output, predict)\n",
        "mape = np.mean(np.abs((df1_test_output - predict) / df1_test_output)) * 100\n",
        "\n",
        "print(\"RMSE:\", rmse)\n",
        "print(\"MAE:\", mae)\n",
        "print(\"MAPE:\", mape)\n",
        "\n",
        "plt.plot(df1_test_output, label=\"Actual\")\n",
        "plt.plot(predict, label=\"Prediction\")\n",
        "plt.xlabel(\"Index\")\n",
        "plt.ylabel(\"Value\")\n",
        "plt.legend()\n",
        "plt.show()"
      ],
      "metadata": {
        "colab": {
          "base_uri": "https://localhost:8080/",
          "height": 883
        },
        "id": "dhVyUgFbOEzP",
        "outputId": "015ad8ab-75b0-4316-bb21-8cca98efbdbd"
      },
      "execution_count": null,
      "outputs": [
        {
          "output_type": "stream",
          "name": "stderr",
          "text": [
            "WARNING:tensorflow:Layer lstm will not use cuDNN kernels since it doesn't meet the criteria. It will use a generic GPU kernel as fallback when running on GPU.\n"
          ]
        },
        {
          "output_type": "stream",
          "name": "stdout",
          "text": [
            "Epoch 1/10\n",
            "317/317 - 7s - loss: 1.8417e-04 - 7s/epoch - 23ms/step\n",
            "Epoch 2/10\n",
            "317/317 - 5s - loss: 2.6055e-06 - 5s/epoch - 15ms/step\n",
            "Epoch 3/10\n",
            "317/317 - 3s - loss: 2.6672e-06 - 3s/epoch - 8ms/step\n",
            "Epoch 4/10\n",
            "317/317 - 3s - loss: 2.4183e-06 - 3s/epoch - 8ms/step\n",
            "Epoch 5/10\n",
            "317/317 - 3s - loss: 2.4982e-06 - 3s/epoch - 9ms/step\n",
            "Epoch 6/10\n",
            "317/317 - 3s - loss: 2.6380e-06 - 3s/epoch - 9ms/step\n",
            "Epoch 7/10\n",
            "317/317 - 3s - loss: 2.6699e-06 - 3s/epoch - 8ms/step\n",
            "Epoch 8/10\n",
            "317/317 - 3s - loss: 2.6709e-06 - 3s/epoch - 8ms/step\n",
            "Epoch 9/10\n",
            "317/317 - 3s - loss: 3.1831e-06 - 3s/epoch - 8ms/step\n",
            "Epoch 10/10\n",
            "317/317 - 3s - loss: 2.8031e-06 - 3s/epoch - 9ms/step\n",
            "31/31 [==============================] - 0s 3ms/step\n",
            "RMSE: 0.07731258689055132\n",
            "MAE: 0.07008021130478978\n",
            "MAPE: 12.393961070212415\n"
          ]
        },
        {
          "output_type": "display_data",
          "data": {
            "text/plain": [
              "<Figure size 640x480 with 1 Axes>"
            ],
            "image/png": "[encoded data removed]"
          },
          "metadata": {}
        }
      ]
    },
    {
      "cell_type": "markdown",
      "source": [
        "####Model 1"
      ],
      "metadata": {
        "id": "ZOvJ_mCPll0P"
      }
    },
    {
      "cell_type": "code",
      "source": [
        "K.clear_session()\n",
        "gru_model = Sequential()\n",
        "gru_model.add(GRU(units=50, activation='relu', input_shape=(WINDOW_SIZE, 1)))\n",
        "gru_model.add(Dense(1))\n",
        "gru_model.compile(optimizer='adam', loss='mean_squared_error')\n",
        "history1 = gru_model.fit(df1_train_input, df1_train_output, epochs=50, batch_size=25, verbose=2)\n",
        "\n",
        "predict = gru_model.predict(df1_test_input)\n",
        "\n",
        "rmse1 = np.sqrt(mean_squared_error(df1_test_output, predict))\n",
        "mae1 = mean_absolute_error(df1_test_output, predict)\n",
        "mape1 = np.mean(np.abs((df1_test_output - predict) / df1_test_output)) * 100\n",
        "\n",
        "print(\"RMSE:\", rmse1)\n",
        "print(\"MAE:\", mae1)\n",
        "print(\"MAPE:\", mape1)\n",
        "\n",
        "plt.plot(df1_test_output, label=\"Actual\")\n",
        "plt.plot(predict, label=\"Prediction\")\n",
        "plt.xlabel(\"Index\")\n",
        "plt.ylabel(\"Value\")\n",
        "plt.legend()\n",
        "plt.show()"
      ],
      "metadata": {
        "colab": {
          "base_uri": "https://localhost:8080/",
          "height": 1000
        },
        "id": "wON9Qzm8losP",
        "outputId": "4757fab6-1fa9-4dce-cf83-3c35cabd022b"
      },
      "execution_count": null,
      "outputs": [
        {
          "output_type": "stream",
          "name": "stderr",
          "text": [
            "WARNING:tensorflow:Layer gru will not use cuDNN kernels since it doesn't meet the criteria. It will use a generic GPU kernel as fallback when running on GPU.\n"
          ]
        },
        {
          "output_type": "stream",
          "name": "stdout",
          "text": [
            "Epoch 1/50\n",
            "317/317 - 5s - loss: 1.1723e-04 - 5s/epoch - 17ms/step\n",
            "Epoch 2/50\n",
            "317/317 - 3s - loss: 1.9276e-06 - 3s/epoch - 11ms/step\n",
            "Epoch 3/50\n",
            "317/317 - 4s - loss: 2.1019e-06 - 4s/epoch - 12ms/step\n",
            "Epoch 4/50\n",
            "317/317 - 4s - loss: 2.5902e-06 - 4s/epoch - 11ms/step\n",
            "Epoch 5/50\n",
            "317/317 - 4s - loss: 2.0337e-06 - 4s/epoch - 12ms/step\n",
            "Epoch 6/50\n",
            "317/317 - 3s - loss: 2.1200e-06 - 3s/epoch - 11ms/step\n",
            "Epoch 7/50\n",
            "317/317 - 4s - loss: 2.3844e-06 - 4s/epoch - 11ms/step\n",
            "Epoch 8/50\n",
            "317/317 - 3s - loss: 2.2435e-06 - 3s/epoch - 10ms/step\n",
            "Epoch 9/50\n",
            "317/317 - 3s - loss: 2.4149e-06 - 3s/epoch - 10ms/step\n",
            "Epoch 10/50\n",
            "317/317 - 3s - loss: 2.1668e-06 - 3s/epoch - 11ms/step\n",
            "Epoch 11/50\n",
            "317/317 - 4s - loss: 1.9520e-06 - 4s/epoch - 12ms/step\n",
            "Epoch 12/50\n",
            "317/317 - 4s - loss: 1.9926e-06 - 4s/epoch - 12ms/step\n",
            "Epoch 13/50\n",
            "317/317 - 5s - loss: 2.2722e-06 - 5s/epoch - 15ms/step\n",
            "Epoch 14/50\n",
            "317/317 - 4s - loss: 2.1309e-06 - 4s/epoch - 14ms/step\n",
            "Epoch 15/50\n",
            "317/317 - 3s - loss: 2.0243e-06 - 3s/epoch - 10ms/step\n",
            "Epoch 16/50\n",
            "317/317 - 3s - loss: 2.2706e-06 - 3s/epoch - 10ms/step\n",
            "Epoch 17/50\n",
            "317/317 - 4s - loss: 1.7823e-06 - 4s/epoch - 12ms/step\n",
            "Epoch 18/50\n",
            "317/317 - 4s - loss: 2.1668e-06 - 4s/epoch - 12ms/step\n",
            "Epoch 19/50\n",
            "317/317 - 4s - loss: 2.1822e-06 - 4s/epoch - 11ms/step\n",
            "Epoch 20/50\n",
            "317/317 - 4s - loss: 1.8783e-06 - 4s/epoch - 13ms/step\n",
            "Epoch 21/50\n",
            "317/317 - 4s - loss: 1.7977e-06 - 4s/epoch - 13ms/step\n",
            "Epoch 22/50\n",
            "317/317 - 3s - loss: 1.8040e-06 - 3s/epoch - 11ms/step\n",
            "Epoch 23/50\n",
            "317/317 - 4s - loss: 1.7295e-06 - 4s/epoch - 12ms/step\n",
            "Epoch 24/50\n",
            "317/317 - 4s - loss: 1.8806e-06 - 4s/epoch - 13ms/step\n",
            "Epoch 25/50\n",
            "317/317 - 4s - loss: 1.8591e-06 - 4s/epoch - 12ms/step\n",
            "Epoch 26/50\n",
            "317/317 - 4s - loss: 1.9834e-06 - 4s/epoch - 12ms/step\n",
            "Epoch 27/50\n",
            "317/317 - 4s - loss: 1.6476e-06 - 4s/epoch - 12ms/step\n",
            "Epoch 28/50\n",
            "317/317 - 4s - loss: 1.7220e-06 - 4s/epoch - 12ms/step\n",
            "Epoch 29/50\n",
            "317/317 - 3s - loss: 1.9080e-06 - 3s/epoch - 11ms/step\n",
            "Epoch 30/50\n",
            "317/317 - 3s - loss: 1.6660e-06 - 3s/epoch - 11ms/step\n",
            "Epoch 31/50\n",
            "317/317 - 4s - loss: 1.6566e-06 - 4s/epoch - 11ms/step\n",
            "Epoch 32/50\n",
            "317/317 - 4s - loss: 1.6615e-06 - 4s/epoch - 11ms/step\n",
            "Epoch 33/50\n",
            "317/317 - 3s - loss: 1.5197e-06 - 3s/epoch - 11ms/step\n",
            "Epoch 34/50\n",
            "317/317 - 4s - loss: 1.6868e-06 - 4s/epoch - 11ms/step\n",
            "Epoch 35/50\n",
            "317/317 - 4s - loss: 1.6303e-06 - 4s/epoch - 12ms/step\n",
            "Epoch 36/50\n",
            "317/317 - 3s - loss: 1.8714e-06 - 3s/epoch - 10ms/step\n",
            "Epoch 37/50\n",
            "317/317 - 3s - loss: 1.4055e-06 - 3s/epoch - 10ms/step\n",
            "Epoch 38/50\n",
            "317/317 - 4s - loss: 1.5322e-06 - 4s/epoch - 13ms/step\n",
            "Epoch 39/50\n",
            "317/317 - 4s - loss: 1.4183e-06 - 4s/epoch - 12ms/step\n",
            "Epoch 40/50\n",
            "317/317 - 4s - loss: 1.4242e-06 - 4s/epoch - 12ms/step\n",
            "Epoch 41/50\n",
            "317/317 - 4s - loss: 1.4452e-06 - 4s/epoch - 11ms/step\n",
            "Epoch 42/50\n",
            "317/317 - 4s - loss: 1.6234e-06 - 4s/epoch - 12ms/step\n",
            "Epoch 43/50\n",
            "317/317 - 3s - loss: 1.6197e-06 - 3s/epoch - 11ms/step\n",
            "Epoch 44/50\n",
            "317/317 - 4s - loss: 1.5358e-06 - 4s/epoch - 12ms/step\n",
            "Epoch 45/50\n",
            "317/317 - 3s - loss: 1.3696e-06 - 3s/epoch - 11ms/step\n",
            "Epoch 46/50\n",
            "317/317 - 4s - loss: 1.5623e-06 - 4s/epoch - 12ms/step\n",
            "Epoch 47/50\n",
            "317/317 - 3s - loss: 1.5518e-06 - 3s/epoch - 11ms/step\n",
            "Epoch 48/50\n",
            "317/317 - 3s - loss: 1.3522e-06 - 3s/epoch - 10ms/step\n",
            "Epoch 49/50\n",
            "317/317 - 3s - loss: 1.4092e-06 - 3s/epoch - 11ms/step\n",
            "Epoch 50/50\n",
            "317/317 - 4s - loss: 1.4025e-06 - 4s/epoch - 11ms/step\n",
            "31/31 [==============================] - 0s 2ms/step\n",
            "RMSE: 0.08514109412593952\n",
            "MAE: 0.07226829532547198\n",
            "MAPE: 12.138970539801864\n"
          ]
        },
        {
          "output_type": "display_data",
          "data": {
            "text/plain": [
              "<Figure size 640x480 with 1 Axes>"
            ],
            "image/png": "[encoded data removed]"
          },
          "metadata": {}
        }
      ]
    },
    {
      "cell_type": "markdown",
      "source": [
        "####Model 2"
      ],
      "metadata": {
        "id": "KkA4S-5Mq0w8"
      }
    },
    {
      "cell_type": "code",
      "source": [
        "# ditambah dropout, batch_size=50,\n",
        "K.clear_session()\n",
        "gru_model = Sequential()\n",
        "gru_model.add(GRU(units=50, activation='relu', input_shape=(WINDOW_SIZE, 1)))\n",
        "gru_model.add(Dropout(0.2))\n",
        "gru_model.add(Dense(1))\n",
        "gru_model.compile(optimizer='adam', loss='mean_squared_error')\n",
        "history2 = gru_model.fit(df1_train_input, df1_train_output, epochs=50, batch_size=50, verbose=2)\n",
        "\n",
        "predict = gru_model.predict(df1_test_input)\n",
        "\n",
        "rmse2 = np.sqrt(mean_squared_error(df1_test_output, predict))\n",
        "mae2 = mean_absolute_error(df1_test_output, predict)\n",
        "mape2 = np.mean(np.abs((df1_test_output - predict) / df1_test_output)) * 100\n",
        "\n",
        "print(\"RMSE:\", rmse2)\n",
        "print(\"MAE:\", mae2)\n",
        "print(\"MAPE:\", mape2)\n",
        "\n",
        "plt.plot(df1_test_output, label=\"Actual\")\n",
        "plt.plot(predict, label=\"Prediction\")\n",
        "plt.xlabel(\"Index\")\n",
        "plt.ylabel(\"Value\")\n",
        "plt.legend()\n",
        "plt.show()"
      ],
      "metadata": {
        "colab": {
          "base_uri": "https://localhost:8080/",
          "height": 1000
        },
        "id": "-0EuYphrraDa",
        "outputId": "1672a043-4b6c-4658-cad3-761de3b8cf5e"
      },
      "execution_count": null,
      "outputs": [
        {
          "output_type": "stream",
          "name": "stderr",
          "text": [
            "WARNING:tensorflow:Layer gru will not use cuDNN kernels since it doesn't meet the criteria. It will use a generic GPU kernel as fallback when running on GPU.\n"
          ]
        },
        {
          "output_type": "stream",
          "name": "stdout",
          "text": [
            "Epoch 1/50\n",
            "159/159 - 4s - loss: 2.8038e-04 - 4s/epoch - 23ms/step\n",
            "Epoch 2/50\n",
            "159/159 - 2s - loss: 4.7124e-05 - 2s/epoch - 11ms/step\n",
            "Epoch 3/50\n",
            "159/159 - 2s - loss: 4.2591e-05 - 2s/epoch - 11ms/step\n",
            "Epoch 4/50\n",
            "159/159 - 2s - loss: 5.0445e-05 - 2s/epoch - 12ms/step\n",
            "Epoch 5/50\n",
            "159/159 - 2s - loss: 4.3683e-05 - 2s/epoch - 12ms/step\n",
            "Epoch 6/50\n",
            "159/159 - 2s - loss: 4.2647e-05 - 2s/epoch - 11ms/step\n",
            "Epoch 7/50\n",
            "159/159 - 2s - loss: 4.5266e-05 - 2s/epoch - 11ms/step\n",
            "Epoch 8/50\n",
            "159/159 - 2s - loss: 4.1897e-05 - 2s/epoch - 11ms/step\n",
            "Epoch 9/50\n",
            "159/159 - 2s - loss: 3.7039e-05 - 2s/epoch - 10ms/step\n",
            "Epoch 10/50\n",
            "159/159 - 2s - loss: 4.3839e-05 - 2s/epoch - 10ms/step\n",
            "Epoch 11/50\n",
            "159/159 - 2s - loss: 4.4001e-05 - 2s/epoch - 11ms/step\n",
            "Epoch 12/50\n",
            "159/159 - 2s - loss: 3.8405e-05 - 2s/epoch - 12ms/step\n",
            "Epoch 13/50\n",
            "159/159 - 2s - loss: 4.0485e-05 - 2s/epoch - 11ms/step\n",
            "Epoch 14/50\n",
            "159/159 - 2s - loss: 4.1206e-05 - 2s/epoch - 10ms/step\n",
            "Epoch 15/50\n",
            "159/159 - 2s - loss: 4.0560e-05 - 2s/epoch - 10ms/step\n",
            "Epoch 16/50\n",
            "159/159 - 2s - loss: 4.0849e-05 - 2s/epoch - 10ms/step\n",
            "Epoch 17/50\n",
            "159/159 - 2s - loss: 3.8483e-05 - 2s/epoch - 10ms/step\n",
            "Epoch 18/50\n",
            "159/159 - 2s - loss: 3.8824e-05 - 2s/epoch - 10ms/step\n",
            "Epoch 19/50\n",
            "159/159 - 2s - loss: 4.1894e-05 - 2s/epoch - 12ms/step\n",
            "Epoch 20/50\n",
            "159/159 - 2s - loss: 3.8952e-05 - 2s/epoch - 12ms/step\n",
            "Epoch 21/50\n",
            "159/159 - 2s - loss: 3.9054e-05 - 2s/epoch - 12ms/step\n",
            "Epoch 22/50\n",
            "159/159 - 2s - loss: 3.7940e-05 - 2s/epoch - 11ms/step\n",
            "Epoch 23/50\n",
            "159/159 - 2s - loss: 4.1052e-05 - 2s/epoch - 10ms/step\n",
            "Epoch 24/50\n",
            "159/159 - 2s - loss: 3.7840e-05 - 2s/epoch - 10ms/step\n",
            "Epoch 25/50\n",
            "159/159 - 2s - loss: 4.0425e-05 - 2s/epoch - 11ms/step\n",
            "Epoch 26/50\n",
            "159/159 - 2s - loss: 3.9491e-05 - 2s/epoch - 12ms/step\n",
            "Epoch 27/50\n",
            "159/159 - 2s - loss: 4.0178e-05 - 2s/epoch - 12ms/step\n",
            "Epoch 28/50\n",
            "159/159 - 2s - loss: 3.5838e-05 - 2s/epoch - 11ms/step\n",
            "Epoch 29/50\n",
            "159/159 - 2s - loss: 3.9858e-05 - 2s/epoch - 11ms/step\n",
            "Epoch 30/50\n",
            "159/159 - 2s - loss: 3.8048e-05 - 2s/epoch - 11ms/step\n",
            "Epoch 31/50\n",
            "159/159 - 2s - loss: 4.2093e-05 - 2s/epoch - 11ms/step\n",
            "Epoch 32/50\n",
            "159/159 - 2s - loss: 3.5544e-05 - 2s/epoch - 11ms/step\n",
            "Epoch 33/50\n",
            "159/159 - 2s - loss: 4.0145e-05 - 2s/epoch - 11ms/step\n",
            "Epoch 34/50\n",
            "159/159 - 2s - loss: 4.1315e-05 - 2s/epoch - 12ms/step\n",
            "Epoch 35/50\n",
            "159/159 - 2s - loss: 3.7957e-05 - 2s/epoch - 11ms/step\n",
            "Epoch 36/50\n",
            "159/159 - 2s - loss: 4.2133e-05 - 2s/epoch - 10ms/step\n",
            "Epoch 37/50\n",
            "159/159 - 2s - loss: 3.6791e-05 - 2s/epoch - 10ms/step\n",
            "Epoch 38/50\n",
            "159/159 - 2s - loss: 3.8454e-05 - 2s/epoch - 10ms/step\n",
            "Epoch 39/50\n",
            "159/159 - 2s - loss: 3.9475e-05 - 2s/epoch - 11ms/step\n",
            "Epoch 40/50\n",
            "159/159 - 2s - loss: 3.4835e-05 - 2s/epoch - 10ms/step\n",
            "Epoch 41/50\n",
            "159/159 - 2s - loss: 3.9015e-05 - 2s/epoch - 11ms/step\n",
            "Epoch 42/50\n",
            "159/159 - 2s - loss: 3.6915e-05 - 2s/epoch - 12ms/step\n",
            "Epoch 43/50\n",
            "159/159 - 2s - loss: 3.5920e-05 - 2s/epoch - 10ms/step\n",
            "Epoch 44/50\n",
            "159/159 - 2s - loss: 4.0191e-05 - 2s/epoch - 10ms/step\n",
            "Epoch 45/50\n",
            "159/159 - 2s - loss: 3.4814e-05 - 2s/epoch - 10ms/step\n",
            "Epoch 46/50\n",
            "159/159 - 2s - loss: 3.6982e-05 - 2s/epoch - 10ms/step\n",
            "Epoch 47/50\n",
            "159/159 - 2s - loss: 4.3151e-05 - 2s/epoch - 10ms/step\n",
            "Epoch 48/50\n",
            "159/159 - 2s - loss: 3.6854e-05 - 2s/epoch - 10ms/step\n",
            "Epoch 49/50\n",
            "159/159 - 2s - loss: 3.8028e-05 - 2s/epoch - 12ms/step\n",
            "Epoch 50/50\n",
            "159/159 - 2s - loss: 4.0761e-05 - 2s/epoch - 11ms/step\n",
            "31/31 [==============================] - 0s 2ms/step\n",
            "RMSE: 0.018855235738139003\n",
            "MAE: 0.01476017694101913\n",
            "MAPE: 2.561682472084528\n"
          ]
        },
        {
          "output_type": "display_data",
          "data": {
            "text/plain": [
              "<Figure size 640x480 with 1 Axes>"
            ],
            "image/png": "[encoded data removed]"
          },
          "metadata": {}
        }
      ]
    },
    {
      "cell_type": "markdown",
      "source": [
        "####Model 3"
      ],
      "metadata": {
        "id": "f0Ti-gdLrmUy"
      }
    },
    {
      "cell_type": "code",
      "source": [
        "# tanh, batch_size=50, epoch=50\n",
        "K.clear_session()\n",
        "gru_model = Sequential()\n",
        "gru_model.add(GRU(units=50, activation='tanh', input_shape=(WINDOW_SIZE, 1)))\n",
        "gru_model.add(Dropout(0.2))\n",
        "gru_model.add(Dense(1))\n",
        "gru_model.compile(optimizer=\"adam\", loss='mean_squared_error')\n",
        "history3 = gru_model.fit(df1_train_input, df1_train_output, epochs=50, batch_size=50, verbose=2)\n",
        "\n",
        "predict = gru_model.predict(df1_test_input)\n",
        "\n",
        "rmse3 = np.sqrt(mean_squared_error(df1_test_output, predict))\n",
        "mae3 = mean_absolute_error(df1_test_output, predict)\n",
        "mape3 = np.mean(np.abs((df1_test_output - predict) / df1_test_output)) * 100\n",
        "\n",
        "print(\"RMSE:\", rmse3)\n",
        "print(\"MAE:\", mae3)\n",
        "print(\"MAPE:\", mape3)\n",
        "\n",
        "plt.plot(df1_test_output, label=\"Actual\")\n",
        "plt.plot(predict, label=\"Prediction\")\n",
        "plt.xlabel(\"Index\")\n",
        "plt.ylabel(\"Value\")\n",
        "plt.legend()\n",
        "plt.show()"
      ],
      "metadata": {
        "colab": {
          "base_uri": "https://localhost:8080/",
          "height": 1000
        },
        "id": "4-sYedoJsEQx",
        "outputId": "89e0f3b0-0a09-47ea-d753-7db47bff71c3"
      },
      "execution_count": null,
      "outputs": [
        {
          "output_type": "stream",
          "name": "stdout",
          "text": [
            "Epoch 1/50\n",
            "159/159 - 3s - loss: 1.9619e-04 - 3s/epoch - 17ms/step\n",
            "Epoch 2/50\n",
            "159/159 - 0s - loss: 3.1143e-05 - 477ms/epoch - 3ms/step\n",
            "Epoch 3/50\n",
            "159/159 - 0s - loss: 2.6992e-05 - 480ms/epoch - 3ms/step\n",
            "Epoch 4/50\n",
            "159/159 - 0s - loss: 2.1301e-05 - 480ms/epoch - 3ms/step\n",
            "Epoch 5/50\n",
            "159/159 - 0s - loss: 1.6731e-05 - 477ms/epoch - 3ms/step\n",
            "Epoch 6/50\n",
            "159/159 - 0s - loss: 1.4672e-05 - 475ms/epoch - 3ms/step\n",
            "Epoch 7/50\n",
            "159/159 - 0s - loss: 1.5526e-05 - 474ms/epoch - 3ms/step\n",
            "Epoch 8/50\n",
            "159/159 - 0s - loss: 1.4273e-05 - 482ms/epoch - 3ms/step\n",
            "Epoch 9/50\n",
            "159/159 - 0s - loss: 1.3610e-05 - 479ms/epoch - 3ms/step\n",
            "Epoch 10/50\n",
            "159/159 - 0s - loss: 1.3695e-05 - 480ms/epoch - 3ms/step\n",
            "Epoch 11/50\n",
            "159/159 - 0s - loss: 1.3320e-05 - 474ms/epoch - 3ms/step\n",
            "Epoch 12/50\n",
            "159/159 - 0s - loss: 1.2124e-05 - 478ms/epoch - 3ms/step\n",
            "Epoch 13/50\n",
            "159/159 - 0s - loss: 1.2886e-05 - 496ms/epoch - 3ms/step\n",
            "Epoch 14/50\n",
            "159/159 - 1s - loss: 1.3869e-05 - 563ms/epoch - 4ms/step\n",
            "Epoch 15/50\n",
            "159/159 - 1s - loss: 1.1353e-05 - 558ms/epoch - 4ms/step\n",
            "Epoch 16/50\n",
            "159/159 - 1s - loss: 1.2945e-05 - 521ms/epoch - 3ms/step\n",
            "Epoch 17/50\n",
            "159/159 - 1s - loss: 1.4266e-05 - 530ms/epoch - 3ms/step\n",
            "Epoch 18/50\n",
            "159/159 - 1s - loss: 1.2800e-05 - 545ms/epoch - 3ms/step\n",
            "Epoch 19/50\n",
            "159/159 - 0s - loss: 1.5087e-05 - 471ms/epoch - 3ms/step\n",
            "Epoch 20/50\n",
            "159/159 - 0s - loss: 1.2702e-05 - 485ms/epoch - 3ms/step\n",
            "Epoch 21/50\n",
            "159/159 - 1s - loss: 1.4168e-05 - 617ms/epoch - 4ms/step\n",
            "Epoch 22/50\n",
            "159/159 - 1s - loss: 1.2605e-05 - 618ms/epoch - 4ms/step\n",
            "Epoch 23/50\n",
            "159/159 - 0s - loss: 1.2785e-05 - 472ms/epoch - 3ms/step\n",
            "Epoch 24/50\n",
            "159/159 - 0s - loss: 1.1905e-05 - 472ms/epoch - 3ms/step\n",
            "Epoch 25/50\n",
            "159/159 - 0s - loss: 1.5131e-05 - 479ms/epoch - 3ms/step\n",
            "Epoch 26/50\n",
            "159/159 - 0s - loss: 1.5273e-05 - 480ms/epoch - 3ms/step\n",
            "Epoch 27/50\n",
            "159/159 - 0s - loss: 1.2848e-05 - 477ms/epoch - 3ms/step\n",
            "Epoch 28/50\n",
            "159/159 - 0s - loss: 1.3937e-05 - 473ms/epoch - 3ms/step\n",
            "Epoch 29/50\n",
            "159/159 - 0s - loss: 1.1255e-05 - 470ms/epoch - 3ms/step\n",
            "Epoch 30/50\n",
            "159/159 - 0s - loss: 1.4032e-05 - 467ms/epoch - 3ms/step\n",
            "Epoch 31/50\n",
            "159/159 - 0s - loss: 1.3977e-05 - 465ms/epoch - 3ms/step\n",
            "Epoch 32/50\n",
            "159/159 - 0s - loss: 1.3759e-05 - 473ms/epoch - 3ms/step\n",
            "Epoch 33/50\n",
            "159/159 - 0s - loss: 1.3173e-05 - 472ms/epoch - 3ms/step\n",
            "Epoch 34/50\n",
            "159/159 - 0s - loss: 1.2515e-05 - 472ms/epoch - 3ms/step\n",
            "Epoch 35/50\n",
            "159/159 - 0s - loss: 1.4178e-05 - 467ms/epoch - 3ms/step\n",
            "Epoch 36/50\n",
            "159/159 - 0s - loss: 1.2431e-05 - 477ms/epoch - 3ms/step\n",
            "Epoch 37/50\n",
            "159/159 - 0s - loss: 1.2672e-05 - 460ms/epoch - 3ms/step\n",
            "Epoch 38/50\n",
            "159/159 - 0s - loss: 1.3029e-05 - 469ms/epoch - 3ms/step\n",
            "Epoch 39/50\n",
            "159/159 - 1s - loss: 1.1487e-05 - 531ms/epoch - 3ms/step\n",
            "Epoch 40/50\n",
            "159/159 - 1s - loss: 1.2458e-05 - 534ms/epoch - 3ms/step\n",
            "Epoch 41/50\n",
            "159/159 - 1s - loss: 1.2159e-05 - 522ms/epoch - 3ms/step\n",
            "Epoch 42/50\n",
            "159/159 - 1s - loss: 1.3381e-05 - 536ms/epoch - 3ms/step\n",
            "Epoch 43/50\n",
            "159/159 - 1s - loss: 1.4480e-05 - 523ms/epoch - 3ms/step\n",
            "Epoch 44/50\n",
            "159/159 - 0s - loss: 1.2881e-05 - 480ms/epoch - 3ms/step\n",
            "Epoch 45/50\n",
            "159/159 - 0s - loss: 1.4511e-05 - 466ms/epoch - 3ms/step\n",
            "Epoch 46/50\n",
            "159/159 - 0s - loss: 1.3212e-05 - 476ms/epoch - 3ms/step\n",
            "Epoch 47/50\n",
            "159/159 - 0s - loss: 1.2884e-05 - 476ms/epoch - 3ms/step\n",
            "Epoch 48/50\n",
            "159/159 - 0s - loss: 1.2427e-05 - 477ms/epoch - 3ms/step\n",
            "Epoch 49/50\n",
            "159/159 - 0s - loss: 1.6427e-05 - 473ms/epoch - 3ms/step\n",
            "Epoch 50/50\n",
            "159/159 - 0s - loss: 1.3170e-05 - 477ms/epoch - 3ms/step\n",
            "31/31 [==============================] - 0s 2ms/step\n",
            "RMSE: 0.012134128011159671\n",
            "MAE: 0.007500955928248172\n",
            "MAPE: 1.342282242079041\n"
          ]
        },
        {
          "output_type": "display_data",
          "data": {
            "text/plain": [
              "<Figure size 640x480 with 1 Axes>"
            ],
            "image/png": "[encoded data removed]"
          },
          "metadata": {}
        }
      ]
    },
    {
      "cell_type": "markdown",
      "source": [
        "Kesimpulan yang saya dapatkan bahwa menggunakan tanh jauh lebih baik karena tanh lebih kompleks perhitungannya dibandingkan dengan relu. Saya juga mencoba menggunakan sigmoid, tetapi sigmoid masih kalah dengan tanh.\n",
        "selain itu, menggunakan GRU juga meningkatkan performa menjadi lebih baik, walaupun harus di ganti juga untuk activation dan batch_sizenya.\n",
        "batch_size yang baik di angka 50, jika ambil 25 maka kurang kompleks, tetapi jika ambil diangka 128 maka terlalu kompleks sehingga hasilnya juga kurang bagus\n",
        "Kemudian optimizer terbaik adalah adam, saya sudah mencoba berbagai optimizer, tetapi hanya adam yang paling bagus"
      ],
      "metadata": {
        "id": "FCChWfBvtf49"
      }
    },
    {
      "cell_type": "markdown",
      "source": [
        "####evaluate"
      ],
      "metadata": {
        "id": "QOY6x0q7cCgc"
      }
    },
    {
      "cell_type": "code",
      "source": [
        "print('Baseline Model:')\n",
        "print(\"RMSE:\", rmse)\n",
        "print(\"MAE:\", mae)\n",
        "print(\"MAPE:\", mape)\n",
        "print('\\n')\n",
        "print('Model 1:')\n",
        "print(\"RMSE:\", rmse1)\n",
        "print(\"MAE:\", mae1)\n",
        "print(\"MAPE:\", mape1)\n",
        "print('\\n')\n",
        "print('Model 2:')\n",
        "print(\"RMSE:\", rmse2)\n",
        "print(\"MAE:\", mae2)\n",
        "print(\"MAPE:\", mape2)\n",
        "print('\\n')\n",
        "print('Model 3:')\n",
        "print(\"RMSE:\", rmse3)\n",
        "print(\"MAE:\", mae3)\n",
        "print(\"MAPE:\", mape3)"
      ],
      "metadata": {
        "colab": {
          "base_uri": "https://localhost:8080/"
        },
        "id": "h3cTX5EPcFaT",
        "outputId": "043d284a-6ef2-453c-bd4f-1cf125cb5167"
      },
      "execution_count": null,
      "outputs": [
        {
          "output_type": "stream",
          "name": "stdout",
          "text": [
            "Baseline Model:\n",
            "RMSE: 0.07731258689055132\n",
            "MAE: 0.07008021130478978\n",
            "MAPE: 12.393961070212415\n",
            "\n",
            "\n",
            "Model 1:\n",
            "RMSE: 0.08514109412593952\n",
            "MAE: 0.07226829532547198\n",
            "MAPE: 12.138970539801864\n",
            "\n",
            "\n",
            "Model 2:\n",
            "RMSE: 0.018855235738139003\n",
            "MAE: 0.01476017694101913\n",
            "MAPE: 2.561682472084528\n",
            "\n",
            "\n",
            "Model 3:\n",
            "RMSE: 0.012134128011159671\n",
            "MAE: 0.007500955928248172\n",
            "MAPE: 1.342282242079041\n"
          ]
        }
      ]
    },
    {
      "cell_type": "markdown",
      "source": [
        "###AMD"
      ],
      "metadata": {
        "id": "0uNYpEpRInd0"
      }
    },
    {
      "cell_type": "markdown",
      "source": [
        "####EDA"
      ],
      "metadata": {
        "id": "L7Mde3CfJp_B"
      }
    },
    {
      "cell_type": "code",
      "source": [
        "df2 = pd.read_csv('/content/drive/MyDrive/UAS Deep Learning/AMD.csv')\n",
        "df2.head()"
      ],
      "metadata": {
        "colab": {
          "base_uri": "https://localhost:8080/",
          "height": 206
        },
        "id": "zHLxSWf7SPhI",
        "outputId": "2af0839a-ac9e-4d88-c4b8-9a7ed2b666eb"
      },
      "execution_count": null,
      "outputs": [
        {
          "output_type": "execute_result",
          "data": {
            "text/plain": [
              "         Date  Open      High       Low     Close  Adj Close  Volume\n",
              "0  1980-03-17   0.0  3.302083  3.125000  3.145833   3.145833  219600\n",
              "1  1980-03-18   0.0  3.125000  2.937500  3.031250   3.031250  727200\n",
              "2  1980-03-19   0.0  3.083333  3.020833  3.041667   3.041667  295200\n",
              "3  1980-03-20   0.0  3.062500  3.010417  3.010417   3.010417  159600\n",
              "4  1980-03-21   0.0  3.020833  2.906250  2.916667   2.916667  130800"
            ],
            "text/html": [
              "\n",
              "  <div id=\"df-f59d2bb0-cf99-4896-89e9-b7b2370727da\">\n",
              "    <div class=\"colab-df-container\">\n",
              "      <div>\n",
              "<style scoped>\n",
              "    .dataframe tbody tr th:only-of-type {\n",
              "        vertical-align: middle;\n",
              "    }\n",
              "\n",
              "    .dataframe tbody tr th {\n",
              "        vertical-align: top;\n",
              "    }\n",
              "\n",
              "    .dataframe thead th {\n",
              "        text-align: right;\n",
              "    }\n",
              "</style>\n",
              "<table border=\"1\" class=\"dataframe\">\n",
              "  <thead>\n",
              "    <tr style=\"text-align: right;\">\n",
              "      <th></th>\n",
              "      <th>Date</th>\n",
              "      <th>Open</th>\n",
              "      <th>High</th>\n",
              "      <th>Low</th>\n",
              "      <th>Close</th>\n",
              "      <th>Adj Close</th>\n",
              "      <th>Volume</th>\n",
              "    </tr>\n",
              "  </thead>\n",
              "  <tbody>\n",
              "    <tr>\n",
              "      <th>0</th>\n",
              "      <td>1980-03-17</td>\n",
              "      <td>0.0</td>\n",
              "      <td>3.302083</td>\n",
              "      <td>3.125000</td>\n",
              "      <td>3.145833</td>\n",
              "      <td>3.145833</td>\n",
              "      <td>219600</td>\n",
              "    </tr>\n",
              "    <tr>\n",
              "      <th>1</th>\n",
              "      <td>1980-03-18</td>\n",
              "      <td>0.0</td>\n",
              "      <td>3.125000</td>\n",
              "      <td>2.937500</td>\n",
              "      <td>3.031250</td>\n",
              "      <td>3.031250</td>\n",
              "      <td>727200</td>\n",
              "    </tr>\n",
              "    <tr>\n",
              "      <th>2</th>\n",
              "      <td>1980-03-19</td>\n",
              "      <td>0.0</td>\n",
              "      <td>3.083333</td>\n",
              "      <td>3.020833</td>\n",
              "      <td>3.041667</td>\n",
              "      <td>3.041667</td>\n",
              "      <td>295200</td>\n",
              "    </tr>\n",
              "    <tr>\n",
              "      <th>3</th>\n",
              "      <td>1980-03-20</td>\n",
              "      <td>0.0</td>\n",
              "      <td>3.062500</td>\n",
              "      <td>3.010417</td>\n",
              "      <td>3.010417</td>\n",
              "      <td>3.010417</td>\n",
              "      <td>159600</td>\n",
              "    </tr>\n",
              "    <tr>\n",
              "      <th>4</th>\n",
              "      <td>1980-03-21</td>\n",
              "      <td>0.0</td>\n",
              "      <td>3.020833</td>\n",
              "      <td>2.906250</td>\n",
              "      <td>2.916667</td>\n",
              "      <td>2.916667</td>\n",
              "      <td>130800</td>\n",
              "    </tr>\n",
              "  </tbody>\n",
              "</table>\n",
              "</div>\n",
              "      <button class=\"colab-df-convert\" onclick=\"convertToInteractive('df-f59d2bb0-cf99-4896-89e9-b7b2370727da')\"\n",
              "              title=\"Convert this dataframe to an interactive table.\"\n",
              "              style=\"display:none;\">\n",
              "        \n",
              "  <svg xmlns=\"http://www.w3.org/2000/svg\" height=\"24px\"viewBox=\"0 0 24 24\"\n",
              "       width=\"24px\">\n",
              "    <path d=\"M0 0h24v24H0V0z\" fill=\"none\"/>\n",
              "    <path d=\"M18.56 5.44l.94 2.06.94-2.06 2.06-.94-2.06-.94-.94-2.06-.94 2.06-2.06.94zm-11 1L8.5 8.5l.94-2.06 2.06-.94-2.06-.94L8.5 2.5l-.94 2.06-2.06.94zm10 10l.94 2.06.94-2.06 2.06-.94-2.06-.94-.94-2.06-.94 2.06-2.06.94z\"/><path d=\"M17.41 7.96l-1.37-1.37c-.4-.4-.92-.59-1.43-.59-.52 0-1.04.2-1.43.59L10.3 9.45l-7.72 7.72c-.78.78-.78 2.05 0 2.83L4 21.41c.39.39.9.59 1.41.59.51 0 1.02-.2 1.41-.59l7.78-7.78 2.81-2.81c.8-.78.8-2.07 0-2.86zM5.41 20L4 18.59l7.72-7.72 1.47 1.35L5.41 20z\"/>\n",
              "  </svg>\n",
              "      </button>\n",
              "      \n",
              "  <style>\n",
              "    .colab-df-container {\n",
              "      display:flex;\n",
              "      flex-wrap:wrap;\n",
              "      gap: 12px;\n",
              "    }\n",
              "\n",
              "    .colab-df-convert {\n",
              "      background-color: #E8F0FE;\n",
              "      border: none;\n",
              "      border-radius: 50%;\n",
              "      cursor: pointer;\n",
              "      display: none;\n",
              "      fill: #1967D2;\n",
              "      height: 32px;\n",
              "      padding: 0 0 0 0;\n",
              "      width: 32px;\n",
              "    }\n",
              "\n",
              "    .colab-df-convert:hover {\n",
              "      background-color: #E2EBFA;\n",
              "      box-shadow: 0px 1px 2px rgba(60, 64, 67, 0.3), 0px 1px 3px 1px rgba(60, 64, 67, 0.15);\n",
              "      fill: #174EA6;\n",
              "    }\n",
              "\n",
              "    [theme=dark] .colab-df-convert {\n",
              "      background-color: #3B4455;\n",
              "      fill: #D2E3FC;\n",
              "    }\n",
              "\n",
              "    [theme=dark] .colab-df-convert:hover {\n",
              "      background-color: #434B5C;\n",
              "      box-shadow: 0px 1px 3px 1px rgba(0, 0, 0, 0.15);\n",
              "      filter: drop-shadow(0px 1px 2px rgba(0, 0, 0, 0.3));\n",
              "      fill: #FFFFFF;\n",
              "    }\n",
              "  </style>\n",
              "\n",
              "      <script>\n",
              "        const buttonEl =\n",
              "          document.querySelector('#df-f59d2bb0-cf99-4896-89e9-b7b2370727da button.colab-df-convert');\n",
              "        buttonEl.style.display =\n",
              "          google.colab.kernel.accessAllowed ? 'block' : 'none';\n",
              "\n",
              "        async function convertToInteractive(key) {\n",
              "          const element = document.querySelector('#df-f59d2bb0-cf99-4896-89e9-b7b2370727da');\n",
              "          const dataTable =\n",
              "            await google.colab.kernel.invokeFunction('convertToInteractive',\n",
              "                                                     [key], {});\n",
              "          if (!dataTable) return;\n",
              "\n",
              "          const docLinkHtml = 'Like what you see? Visit the ' +\n",
              "            '<a target=\"_blank\" href=https://colab.research.google.com/notebooks/data_table.ipynb>data table notebook</a>'\n",
              "            + ' to learn more about interactive tables.';\n",
              "          element.innerHTML = '';\n",
              "          dataTable['output_type'] = 'display_data';\n",
              "          await google.colab.output.renderOutput(dataTable, element);\n",
              "          const docLink = document.createElement('div');\n",
              "          docLink.innerHTML = docLinkHtml;\n",
              "          element.appendChild(docLink);\n",
              "        }\n",
              "      </script>\n",
              "    </div>\n",
              "  </div>\n",
              "  "
            ]
          },
          "metadata": {},
          "execution_count": 19
        }
      ]
    },
    {
      "cell_type": "code",
      "source": [
        "df2 = df2[['Date', 'Close']]\n",
        "df2.head()"
      ],
      "metadata": {
        "id": "ugwLGgnmSaSa",
        "colab": {
          "base_uri": "https://localhost:8080/",
          "height": 206
        },
        "outputId": "66a237c5-1330-4d8a-fb7a-640deafe3d4c"
      },
      "execution_count": null,
      "outputs": [
        {
          "output_type": "execute_result",
          "data": {
            "text/plain": [
              "         Date     Close\n",
              "0  1980-03-17  3.145833\n",
              "1  1980-03-18  3.031250\n",
              "2  1980-03-19  3.041667\n",
              "3  1980-03-20  3.010417\n",
              "4  1980-03-21  2.916667"
            ],
            "text/html": [
              "\n",
              "  <div id=\"df-07c937c3-a124-46ef-a3b6-292987a70120\">\n",
              "    <div class=\"colab-df-container\">\n",
              "      <div>\n",
              "<style scoped>\n",
              "    .dataframe tbody tr th:only-of-type {\n",
              "        vertical-align: middle;\n",
              "    }\n",
              "\n",
              "    .dataframe tbody tr th {\n",
              "        vertical-align: top;\n",
              "    }\n",
              "\n",
              "    .dataframe thead th {\n",
              "        text-align: right;\n",
              "    }\n",
              "</style>\n",
              "<table border=\"1\" class=\"dataframe\">\n",
              "  <thead>\n",
              "    <tr style=\"text-align: right;\">\n",
              "      <th></th>\n",
              "      <th>Date</th>\n",
              "      <th>Close</th>\n",
              "    </tr>\n",
              "  </thead>\n",
              "  <tbody>\n",
              "    <tr>\n",
              "      <th>0</th>\n",
              "      <td>1980-03-17</td>\n",
              "      <td>3.145833</td>\n",
              "    </tr>\n",
              "    <tr>\n",
              "      <th>1</th>\n",
              "      <td>1980-03-18</td>\n",
              "      <td>3.031250</td>\n",
              "    </tr>\n",
              "    <tr>\n",
              "      <th>2</th>\n",
              "      <td>1980-03-19</td>\n",
              "      <td>3.041667</td>\n",
              "    </tr>\n",
              "    <tr>\n",
              "      <th>3</th>\n",
              "      <td>1980-03-20</td>\n",
              "      <td>3.010417</td>\n",
              "    </tr>\n",
              "    <tr>\n",
              "      <th>4</th>\n",
              "      <td>1980-03-21</td>\n",
              "      <td>2.916667</td>\n",
              "    </tr>\n",
              "  </tbody>\n",
              "</table>\n",
              "</div>\n",
              "      <button class=\"colab-df-convert\" onclick=\"convertToInteractive('df-07c937c3-a124-46ef-a3b6-292987a70120')\"\n",
              "              title=\"Convert this dataframe to an interactive table.\"\n",
              "              style=\"display:none;\">\n",
              "        \n",
              "  <svg xmlns=\"http://www.w3.org/2000/svg\" height=\"24px\"viewBox=\"0 0 24 24\"\n",
              "       width=\"24px\">\n",
              "    <path d=\"M0 0h24v24H0V0z\" fill=\"none\"/>\n",
              "    <path d=\"M18.56 5.44l.94 2.06.94-2.06 2.06-.94-2.06-.94-.94-2.06-.94 2.06-2.06.94zm-11 1L8.5 8.5l.94-2.06 2.06-.94-2.06-.94L8.5 2.5l-.94 2.06-2.06.94zm10 10l.94 2.06.94-2.06 2.06-.94-2.06-.94-.94-2.06-.94 2.06-2.06.94z\"/><path d=\"M17.41 7.96l-1.37-1.37c-.4-.4-.92-.59-1.43-.59-.52 0-1.04.2-1.43.59L10.3 9.45l-7.72 7.72c-.78.78-.78 2.05 0 2.83L4 21.41c.39.39.9.59 1.41.59.51 0 1.02-.2 1.41-.59l7.78-7.78 2.81-2.81c.8-.78.8-2.07 0-2.86zM5.41 20L4 18.59l7.72-7.72 1.47 1.35L5.41 20z\"/>\n",
              "  </svg>\n",
              "      </button>\n",
              "      \n",
              "  <style>\n",
              "    .colab-df-container {\n",
              "      display:flex;\n",
              "      flex-wrap:wrap;\n",
              "      gap: 12px;\n",
              "    }\n",
              "\n",
              "    .colab-df-convert {\n",
              "      background-color: #E8F0FE;\n",
              "      border: none;\n",
              "      border-radius: 50%;\n",
              "      cursor: pointer;\n",
              "      display: none;\n",
              "      fill: #1967D2;\n",
              "      height: 32px;\n",
              "      padding: 0 0 0 0;\n",
              "      width: 32px;\n",
              "    }\n",
              "\n",
              "    .colab-df-convert:hover {\n",
              "      background-color: #E2EBFA;\n",
              "      box-shadow: 0px 1px 2px rgba(60, 64, 67, 0.3), 0px 1px 3px 1px rgba(60, 64, 67, 0.15);\n",
              "      fill: #174EA6;\n",
              "    }\n",
              "\n",
              "    [theme=dark] .colab-df-convert {\n",
              "      background-color: #3B4455;\n",
              "      fill: #D2E3FC;\n",
              "    }\n",
              "\n",
              "    [theme=dark] .colab-df-convert:hover {\n",
              "      background-color: #434B5C;\n",
              "      box-shadow: 0px 1px 3px 1px rgba(0, 0, 0, 0.15);\n",
              "      filter: drop-shadow(0px 1px 2px rgba(0, 0, 0, 0.3));\n",
              "      fill: #FFFFFF;\n",
              "    }\n",
              "  </style>\n",
              "\n",
              "      <script>\n",
              "        const buttonEl =\n",
              "          document.querySelector('#df-07c937c3-a124-46ef-a3b6-292987a70120 button.colab-df-convert');\n",
              "        buttonEl.style.display =\n",
              "          google.colab.kernel.accessAllowed ? 'block' : 'none';\n",
              "\n",
              "        async function convertToInteractive(key) {\n",
              "          const element = document.querySelector('#df-07c937c3-a124-46ef-a3b6-292987a70120');\n",
              "          const dataTable =\n",
              "            await google.colab.kernel.invokeFunction('convertToInteractive',\n",
              "                                                     [key], {});\n",
              "          if (!dataTable) return;\n",
              "\n",
              "          const docLinkHtml = 'Like what you see? Visit the ' +\n",
              "            '<a target=\"_blank\" href=https://colab.research.google.com/notebooks/data_table.ipynb>data table notebook</a>'\n",
              "            + ' to learn more about interactive tables.';\n",
              "          element.innerHTML = '';\n",
              "          dataTable['output_type'] = 'display_data';\n",
              "          await google.colab.output.renderOutput(dataTable, element);\n",
              "          const docLink = document.createElement('div');\n",
              "          docLink.innerHTML = docLinkHtml;\n",
              "          element.appendChild(docLink);\n",
              "        }\n",
              "      </script>\n",
              "    </div>\n",
              "  </div>\n",
              "  "
            ]
          },
          "metadata": {},
          "execution_count": 20
        }
      ]
    },
    {
      "cell_type": "code",
      "source": [
        "df2.info()"
      ],
      "metadata": {
        "colab": {
          "base_uri": "https://localhost:8080/"
        },
        "id": "AGpY0tPAHhBs",
        "outputId": "16385172-07f9-4ef5-847b-5ec43f711afa"
      },
      "execution_count": null,
      "outputs": [
        {
          "output_type": "stream",
          "name": "stdout",
          "text": [
            "<class 'pandas.core.frame.DataFrame'>\n",
            "RangeIndex: 10098 entries, 0 to 10097\n",
            "Data columns (total 2 columns):\n",
            " #   Column  Non-Null Count  Dtype  \n",
            "---  ------  --------------  -----  \n",
            " 0   Date    10098 non-null  object \n",
            " 1   Close   10098 non-null  float64\n",
            "dtypes: float64(1), object(1)\n",
            "memory usage: 157.9+ KB\n"
          ]
        }
      ]
    },
    {
      "cell_type": "code",
      "source": [
        "df2.describe().T"
      ],
      "metadata": {
        "colab": {
          "base_uri": "https://localhost:8080/",
          "height": 81
        },
        "id": "8pup25X5IPsJ",
        "outputId": "14a66c1b-aa56-4215-93c0-489948e12678"
      },
      "execution_count": null,
      "outputs": [
        {
          "output_type": "execute_result",
          "data": {
            "text/plain": [
              "         count       mean       std   min     25%     50%      75%        max\n",
              "Close  10098.0  11.210802  8.283645  1.62  4.9375  9.0625  14.7075  58.900002"
            ],
            "text/html": [
              "\n",
              "  <div id=\"df-e6c5f2da-7ab7-4eb1-9393-0b92776c6caf\">\n",
              "    <div class=\"colab-df-container\">\n",
              "      <div>\n",
              "<style scoped>\n",
              "    .dataframe tbody tr th:only-of-type {\n",
              "        vertical-align: middle;\n",
              "    }\n",
              "\n",
              "    .dataframe tbody tr th {\n",
              "        vertical-align: top;\n",
              "    }\n",
              "\n",
              "    .dataframe thead th {\n",
              "        text-align: right;\n",
              "    }\n",
              "</style>\n",
              "<table border=\"1\" class=\"dataframe\">\n",
              "  <thead>\n",
              "    <tr style=\"text-align: right;\">\n",
              "      <th></th>\n",
              "      <th>count</th>\n",
              "      <th>mean</th>\n",
              "      <th>std</th>\n",
              "      <th>min</th>\n",
              "      <th>25%</th>\n",
              "      <th>50%</th>\n",
              "      <th>75%</th>\n",
              "      <th>max</th>\n",
              "    </tr>\n",
              "  </thead>\n",
              "  <tbody>\n",
              "    <tr>\n",
              "      <th>Close</th>\n",
              "      <td>10098.0</td>\n",
              "      <td>11.210802</td>\n",
              "      <td>8.283645</td>\n",
              "      <td>1.62</td>\n",
              "      <td>4.9375</td>\n",
              "      <td>9.0625</td>\n",
              "      <td>14.7075</td>\n",
              "      <td>58.900002</td>\n",
              "    </tr>\n",
              "  </tbody>\n",
              "</table>\n",
              "</div>\n",
              "      <button class=\"colab-df-convert\" onclick=\"convertToInteractive('df-e6c5f2da-7ab7-4eb1-9393-0b92776c6caf')\"\n",
              "              title=\"Convert this dataframe to an interactive table.\"\n",
              "              style=\"display:none;\">\n",
              "        \n",
              "  <svg xmlns=\"http://www.w3.org/2000/svg\" height=\"24px\"viewBox=\"0 0 24 24\"\n",
              "       width=\"24px\">\n",
              "    <path d=\"M0 0h24v24H0V0z\" fill=\"none\"/>\n",
              "    <path d=\"M18.56 5.44l.94 2.06.94-2.06 2.06-.94-2.06-.94-.94-2.06-.94 2.06-2.06.94zm-11 1L8.5 8.5l.94-2.06 2.06-.94-2.06-.94L8.5 2.5l-.94 2.06-2.06.94zm10 10l.94 2.06.94-2.06 2.06-.94-2.06-.94-.94-2.06-.94 2.06-2.06.94z\"/><path d=\"M17.41 7.96l-1.37-1.37c-.4-.4-.92-.59-1.43-.59-.52 0-1.04.2-1.43.59L10.3 9.45l-7.72 7.72c-.78.78-.78 2.05 0 2.83L4 21.41c.39.39.9.59 1.41.59.51 0 1.02-.2 1.41-.59l7.78-7.78 2.81-2.81c.8-.78.8-2.07 0-2.86zM5.41 20L4 18.59l7.72-7.72 1.47 1.35L5.41 20z\"/>\n",
              "  </svg>\n",
              "      </button>\n",
              "      \n",
              "  <style>\n",
              "    .colab-df-container {\n",
              "      display:flex;\n",
              "      flex-wrap:wrap;\n",
              "      gap: 12px;\n",
              "    }\n",
              "\n",
              "    .colab-df-convert {\n",
              "      background-color: #E8F0FE;\n",
              "      border: none;\n",
              "      border-radius: 50%;\n",
              "      cursor: pointer;\n",
              "      display: none;\n",
              "      fill: #1967D2;\n",
              "      height: 32px;\n",
              "      padding: 0 0 0 0;\n",
              "      width: 32px;\n",
              "    }\n",
              "\n",
              "    .colab-df-convert:hover {\n",
              "      background-color: #E2EBFA;\n",
              "      box-shadow: 0px 1px 2px rgba(60, 64, 67, 0.3), 0px 1px 3px 1px rgba(60, 64, 67, 0.15);\n",
              "      fill: #174EA6;\n",
              "    }\n",
              "\n",
              "    [theme=dark] .colab-df-convert {\n",
              "      background-color: #3B4455;\n",
              "      fill: #D2E3FC;\n",
              "    }\n",
              "\n",
              "    [theme=dark] .colab-df-convert:hover {\n",
              "      background-color: #434B5C;\n",
              "      box-shadow: 0px 1px 3px 1px rgba(0, 0, 0, 0.15);\n",
              "      filter: drop-shadow(0px 1px 2px rgba(0, 0, 0, 0.3));\n",
              "      fill: #FFFFFF;\n",
              "    }\n",
              "  </style>\n",
              "\n",
              "      <script>\n",
              "        const buttonEl =\n",
              "          document.querySelector('#df-e6c5f2da-7ab7-4eb1-9393-0b92776c6caf button.colab-df-convert');\n",
              "        buttonEl.style.display =\n",
              "          google.colab.kernel.accessAllowed ? 'block' : 'none';\n",
              "\n",
              "        async function convertToInteractive(key) {\n",
              "          const element = document.querySelector('#df-e6c5f2da-7ab7-4eb1-9393-0b92776c6caf');\n",
              "          const dataTable =\n",
              "            await google.colab.kernel.invokeFunction('convertToInteractive',\n",
              "                                                     [key], {});\n",
              "          if (!dataTable) return;\n",
              "\n",
              "          const docLinkHtml = 'Like what you see? Visit the ' +\n",
              "            '<a target=\"_blank\" href=https://colab.research.google.com/notebooks/data_table.ipynb>data table notebook</a>'\n",
              "            + ' to learn more about interactive tables.';\n",
              "          element.innerHTML = '';\n",
              "          dataTable['output_type'] = 'display_data';\n",
              "          await google.colab.output.renderOutput(dataTable, element);\n",
              "          const docLink = document.createElement('div');\n",
              "          docLink.innerHTML = docLinkHtml;\n",
              "          element.appendChild(docLink);\n",
              "        }\n",
              "      </script>\n",
              "    </div>\n",
              "  </div>\n",
              "  "
            ]
          },
          "metadata": {},
          "execution_count": 22
        }
      ]
    },
    {
      "cell_type": "code",
      "source": [
        "print(df2.isna().sum())\n",
        "df2.shape"
      ],
      "metadata": {
        "colab": {
          "base_uri": "https://localhost:8080/"
        },
        "id": "QZSy0AauIVm4",
        "outputId": "1dfc9318-8e15-40ed-a1ac-45a882401986"
      },
      "execution_count": null,
      "outputs": [
        {
          "output_type": "stream",
          "name": "stdout",
          "text": [
            "Date     0\n",
            "Close    0\n",
            "dtype: int64\n"
          ]
        },
        {
          "output_type": "execute_result",
          "data": {
            "text/plain": [
              "(10098, 2)"
            ]
          },
          "metadata": {},
          "execution_count": 23
        }
      ]
    },
    {
      "cell_type": "markdown",
      "source": [
        "####preprocessing"
      ],
      "metadata": {
        "id": "NwB6fghThZ60"
      }
    },
    {
      "cell_type": "code",
      "source": [
        "df2_plot = df2.iloc[:,1].values\n",
        "print(df2_plot)\n",
        "plt.plot(df2_plot)\n",
        "plt.xlabel(\"Stock Price From 1980 - 2020\")\n",
        "plt.ylabel(\"Stock Price\")\n",
        "plt.title(\"AMD Stock Price\")\n",
        "plt.show()"
      ],
      "metadata": {
        "colab": {
          "base_uri": "https://localhost:8080/",
          "height": 507
        },
        "id": "hhU9sD9mI4RO",
        "outputId": "fc1562e5-1b83-4ee8-d499-3e22e4b2686c"
      },
      "execution_count": null,
      "outputs": [
        {
          "output_type": "stream",
          "name": "stdout",
          "text": [
            "[ 3.14583325  3.03125     3.04166675 ... 47.86000061 45.47999954\n",
            " 43.65999985]\n"
          ]
        },
        {
          "output_type": "display_data",
          "data": {
            "text/plain": [
              "<Figure size 640x480 with 1 Axes>"
            ],
            "image/png": "[encoded data removed]"
          },
          "metadata": {}
        }
      ]
    },
    {
      "cell_type": "code",
      "source": [
        "df2_close = df2['Close'].values\n",
        "df2_close"
      ],
      "metadata": {
        "colab": {
          "base_uri": "https://localhost:8080/"
        },
        "id": "qWg_weqnhzst",
        "outputId": "9f6b97db-41a5-429a-ecd2-d7e39f34792a"
      },
      "execution_count": null,
      "outputs": [
        {
          "output_type": "execute_result",
          "data": {
            "text/plain": [
              "array([ 3.14583325,  3.03125   ,  3.04166675, ..., 47.86000061,\n",
              "       45.47999954, 43.65999985])"
            ]
          },
          "metadata": {},
          "execution_count": 25
        }
      ]
    },
    {
      "cell_type": "code",
      "source": [
        "df2_data = df2_close.reshape(-1,1)\n",
        "df2_data.shape"
      ],
      "metadata": {
        "colab": {
          "base_uri": "https://localhost:8080/"
        },
        "id": "rzoN87LuiaP3",
        "outputId": "a23c8c96-48bc-4026-8114-6db786b9f75a"
      },
      "execution_count": null,
      "outputs": [
        {
          "output_type": "execute_result",
          "data": {
            "text/plain": [
              "(10098, 1)"
            ]
          },
          "metadata": {},
          "execution_count": 26
        }
      ]
    },
    {
      "cell_type": "code",
      "source": [
        "scaler = MinMaxScaler(feature_range = (0,1))\n",
        "df2_data = scaler.fit_transform(df2_data)"
      ],
      "metadata": {
        "id": "Le7f8LnkihWT"
      },
      "execution_count": null,
      "outputs": []
    },
    {
      "cell_type": "code",
      "source": [
        "# Define window size and horizon\n",
        "WINDOW_SIZE = 5\n",
        "HORIZON = 1\n",
        "# Create empty lists for input and output data\n",
        "X = []\n",
        "y = []\n",
        "\n",
        "for i in range(len(df2_data) - WINDOW_SIZE - HORIZON + 1):\n",
        "    df2_input_window = df2_data[i:i + WINDOW_SIZE]\n",
        "    df2_output_window = df2_data[i + WINDOW_SIZE + HORIZON - 1]\n",
        "    X.append(df2_input_window)\n",
        "    y.append(df2_output_window)\n",
        "\n",
        "X = np.array(X)\n",
        "y = np.array(y)\n",
        "\n",
        "print(\"Input data:\")\n",
        "print(X)\n",
        "print(\"Output data:\")\n",
        "print(y)"
      ],
      "metadata": {
        "colab": {
          "base_uri": "https://localhost:8080/"
        },
        "id": "SsOJtjvkimtM",
        "outputId": "232ac95c-edef-406d-db16-450424f81d64"
      },
      "execution_count": null,
      "outputs": [
        {
          "output_type": "stream",
          "name": "stdout",
          "text": [
            "Input data:\n",
            "[[[0.02663815]\n",
            "  [0.02463774]\n",
            "  [0.0248196 ]\n",
            "  [0.02427403]\n",
            "  [0.02263734]]\n",
            "\n",
            " [[0.02463774]\n",
            "  [0.0248196 ]\n",
            "  [0.02427403]\n",
            "  [0.02263734]\n",
            "  [0.01827281]]\n",
            "\n",
            " [[0.0248196 ]\n",
            "  [0.02427403]\n",
            "  [0.02263734]\n",
            "  [0.01827281]\n",
            "  [0.01718168]]\n",
            "\n",
            " ...\n",
            "\n",
            " [[0.69867316]\n",
            "  [0.77863129]\n",
            "  [0.7508729 ]\n",
            "  [0.80097763]\n",
            "  [0.78491621]]\n",
            "\n",
            " [[0.77863129]\n",
            "  [0.7508729 ]\n",
            "  [0.80097763]\n",
            "  [0.78491621]\n",
            "  [0.80726256]]\n",
            "\n",
            " [[0.7508729 ]\n",
            "  [0.80097763]\n",
            "  [0.78491621]\n",
            "  [0.80726256]\n",
            "  [0.76571226]]]\n",
            "Output data:\n",
            "[[0.01827281]\n",
            " [0.01718168]\n",
            " [0.01445385]\n",
            " ...\n",
            " [0.80726256]\n",
            " [0.76571226]\n",
            " [0.73393853]]\n"
          ]
        }
      ]
    },
    {
      "cell_type": "code",
      "source": [
        "df2_train_size = int(len(X) * 0.8)\n",
        "df2_val_size = int(len(X) * 0.1)\n",
        "df2_test_size = len(X) - df2_train_size - df2_val_size\n",
        "\n",
        "df2_train_input = X[:df2_train_size]\n",
        "df2_train_output = y[:df2_train_size]\n",
        "df2_val_input = X[df2_train_size : df2_train_size + df2_val_size]\n",
        "df2_val_output = y[df2_train_size : df2_train_size+ df2_val_size]\n",
        "df2_test_input = X[df2_train_size + df2_val_size:]\n",
        "df2_test_output = y[df2_train_size + df2_val_size:]\n",
        "\n",
        "print(\"Train size: {}, Val size: {}, Test size: {}\".format(len(df2_train_input), len(df2_val_input), len(df2_test_input)))"
      ],
      "metadata": {
        "colab": {
          "base_uri": "https://localhost:8080/"
        },
        "id": "01D4AK5KixXE",
        "outputId": "06918ef9-3677-42dd-8961-d9f1ac9bdd12"
      },
      "execution_count": null,
      "outputs": [
        {
          "output_type": "stream",
          "name": "stdout",
          "text": [
            "Train size: 8074, Val size: 1009, Test size: 1010\n"
          ]
        }
      ]
    },
    {
      "cell_type": "markdown",
      "source": [
        "####arsitektur baseline"
      ],
      "metadata": {
        "id": "cD-e6AoLjSM1"
      }
    },
    {
      "cell_type": "code",
      "source": [
        "# Creating the baseline for LSTM model\n",
        "K.clear_session()\n",
        "baseline_model = Sequential()\n",
        "baseline_model.add(LSTM(units=50, activation='relu', input_shape=(WINDOW_SIZE, 1)))\n",
        "baseline_model.add(Dense(1))\n",
        "baseline_model.compile(optimizer='adam', loss='mean_squared_error')\n",
        "history_2 = baseline_model.fit(df2_train_input, df2_train_output, epochs=10, batch_size=25, verbose=2)\n",
        "\n",
        "predict = baseline_model.predict(df2_test_input)\n",
        "\n",
        "rmse = np.sqrt(mean_squared_error(df2_test_output, predict))\n",
        "mae = mean_absolute_error(df2_test_output, predict)\n",
        "mape = np.mean(np.abs((df2_test_output - predict) / df2_test_output)) * 100\n",
        "\n",
        "print(\"RMSE:\", rmse)\n",
        "print(\"MAE:\", mae)\n",
        "print(\"MAPE:\", mape)\n",
        "\n",
        "plt.plot(df2_test_output, label=\"Actual\")\n",
        "plt.plot(predict, label=\"Prediction\")\n",
        "plt.xlabel(\"Index\")\n",
        "plt.ylabel(\"Value\")\n",
        "plt.legend()\n",
        "plt.show()"
      ],
      "metadata": {
        "colab": {
          "base_uri": "https://localhost:8080/",
          "height": 883
        },
        "id": "-9EYctPzjV-7",
        "outputId": "434b75aa-7f20-4c5f-8dbd-35ee12c872ea"
      },
      "execution_count": null,
      "outputs": [
        {
          "output_type": "stream",
          "name": "stderr",
          "text": [
            "WARNING:tensorflow:Layer lstm will not use cuDNN kernels since it doesn't meet the criteria. It will use a generic GPU kernel as fallback when running on GPU.\n"
          ]
        },
        {
          "output_type": "stream",
          "name": "stdout",
          "text": [
            "Epoch 1/10\n",
            "323/323 - 4s - loss: 0.0028 - 4s/epoch - 14ms/step\n",
            "Epoch 2/10\n",
            "323/323 - 3s - loss: 1.8824e-04 - 3s/epoch - 9ms/step\n",
            "Epoch 3/10\n",
            "323/323 - 3s - loss: 1.8761e-04 - 3s/epoch - 10ms/step\n",
            "Epoch 4/10\n",
            "323/323 - 3s - loss: 1.8061e-04 - 3s/epoch - 8ms/step\n",
            "Epoch 5/10\n",
            "323/323 - 3s - loss: 1.6793e-04 - 3s/epoch - 8ms/step\n",
            "Epoch 6/10\n",
            "323/323 - 3s - loss: 1.5932e-04 - 3s/epoch - 8ms/step\n",
            "Epoch 7/10\n",
            "323/323 - 3s - loss: 1.5447e-04 - 3s/epoch - 8ms/step\n",
            "Epoch 8/10\n",
            "323/323 - 3s - loss: 1.4757e-04 - 3s/epoch - 9ms/step\n",
            "Epoch 9/10\n",
            "323/323 - 3s - loss: 1.4174e-04 - 3s/epoch - 8ms/step\n",
            "Epoch 10/10\n",
            "323/323 - 3s - loss: 1.2740e-04 - 3s/epoch - 8ms/step\n",
            "32/32 [==============================] - 0s 2ms/step\n",
            "RMSE: 0.017865297357231583\n",
            "MAE: 0.01136401104758976\n",
            "MAPE: 4.117691578335568\n"
          ]
        },
        {
          "output_type": "display_data",
          "data": {
            "text/plain": [
              "<Figure size 640x480 with 1 Axes>"
            ],
            "image/png": "[encoded data removed]"
          },
          "metadata": {}
        }
      ]
    },
    {
      "cell_type": "markdown",
      "source": [
        "####Model 1"
      ],
      "metadata": {
        "id": "gbVpNtb5jx_s"
      }
    },
    {
      "cell_type": "code",
      "source": [
        "K.clear_session()\n",
        "gru_model = Sequential()\n",
        "gru_model.add(GRU(units=50, activation='relu', input_shape=(WINDOW_SIZE, 1)))\n",
        "gru_model.add(Dense(1))\n",
        "gru_model.compile(optimizer='adam', loss='mean_squared_error')\n",
        "history1_2 = gru_model.fit(df2_train_input, df2_train_output, epochs=50, batch_size=25, verbose=2)\n",
        "\n",
        "predict = gru_model.predict(df2_test_input)\n",
        "\n",
        "rmse1 = np.sqrt(mean_squared_error(df2_test_output, predict))\n",
        "mae1 = mean_absolute_error(df2_test_output, predict)\n",
        "mape1 = np.mean(np.abs((df2_test_output - predict) / df2_test_output)) * 100\n",
        "\n",
        "print(\"RMSE:\", rmse1)\n",
        "print(\"MAE:\", mae1)\n",
        "print(\"MAPE:\", mape1)\n",
        "\n",
        "plt.plot(df2_test_output, label=\"Actual\")\n",
        "plt.plot(predict, label=\"Prediction\")\n",
        "plt.xlabel(\"Index\")\n",
        "plt.ylabel(\"Value\")\n",
        "plt.legend()\n",
        "plt.show()"
      ],
      "metadata": {
        "colab": {
          "base_uri": "https://localhost:8080/",
          "height": 1000
        },
        "id": "vv3Lf_c1jlJN",
        "outputId": "6e0adde7-52d4-4a25-816d-94ec0fb2e5ac"
      },
      "execution_count": null,
      "outputs": [
        {
          "output_type": "stream",
          "name": "stderr",
          "text": [
            "WARNING:tensorflow:Layer gru will not use cuDNN kernels since it doesn't meet the criteria. It will use a generic GPU kernel as fallback when running on GPU.\n"
          ]
        },
        {
          "output_type": "stream",
          "name": "stdout",
          "text": [
            "Epoch 1/50\n",
            "323/323 - 5s - loss: 0.0018 - 5s/epoch - 16ms/step\n",
            "Epoch 2/50\n",
            "323/323 - 5s - loss: 1.3886e-04 - 5s/epoch - 16ms/step\n",
            "Epoch 3/50\n",
            "323/323 - 3s - loss: 1.2890e-04 - 3s/epoch - 10ms/step\n",
            "Epoch 4/50\n",
            "323/323 - 3s - loss: 1.2732e-04 - 3s/epoch - 10ms/step\n",
            "Epoch 5/50\n",
            "323/323 - 3s - loss: 1.2190e-04 - 3s/epoch - 11ms/step\n",
            "Epoch 6/50\n",
            "323/323 - 4s - loss: 1.1046e-04 - 4s/epoch - 12ms/step\n",
            "Epoch 7/50\n",
            "323/323 - 3s - loss: 1.0937e-04 - 3s/epoch - 10ms/step\n",
            "Epoch 8/50\n",
            "323/323 - 3s - loss: 1.1184e-04 - 3s/epoch - 10ms/step\n",
            "Epoch 9/50\n",
            "323/323 - 4s - loss: 1.0037e-04 - 4s/epoch - 11ms/step\n",
            "Epoch 10/50\n",
            "323/323 - 4s - loss: 1.0480e-04 - 4s/epoch - 11ms/step\n",
            "Epoch 11/50\n",
            "323/323 - 3s - loss: 1.0248e-04 - 3s/epoch - 10ms/step\n",
            "Epoch 12/50\n",
            "323/323 - 3s - loss: 9.5778e-05 - 3s/epoch - 10ms/step\n",
            "Epoch 13/50\n",
            "323/323 - 4s - loss: 9.6254e-05 - 4s/epoch - 11ms/step\n",
            "Epoch 14/50\n",
            "323/323 - 4s - loss: 9.3215e-05 - 4s/epoch - 11ms/step\n",
            "Epoch 15/50\n",
            "323/323 - 3s - loss: 9.3576e-05 - 3s/epoch - 11ms/step\n",
            "Epoch 16/50\n",
            "323/323 - 3s - loss: 9.3541e-05 - 3s/epoch - 11ms/step\n",
            "Epoch 17/50\n",
            "323/323 - 4s - loss: 9.1915e-05 - 4s/epoch - 12ms/step\n",
            "Epoch 18/50\n",
            "323/323 - 3s - loss: 9.2898e-05 - 3s/epoch - 10ms/step\n",
            "Epoch 19/50\n",
            "323/323 - 3s - loss: 9.3269e-05 - 3s/epoch - 10ms/step\n",
            "Epoch 20/50\n",
            "323/323 - 3s - loss: 8.9473e-05 - 3s/epoch - 11ms/step\n",
            "Epoch 21/50\n",
            "323/323 - 4s - loss: 8.9180e-05 - 4s/epoch - 11ms/step\n",
            "Epoch 22/50\n",
            "323/323 - 3s - loss: 8.9406e-05 - 3s/epoch - 10ms/step\n",
            "Epoch 23/50\n",
            "323/323 - 3s - loss: 9.4884e-05 - 3s/epoch - 10ms/step\n",
            "Epoch 24/50\n",
            "323/323 - 4s - loss: 8.8030e-05 - 4s/epoch - 11ms/step\n",
            "Epoch 25/50\n",
            "323/323 - 4s - loss: 8.7950e-05 - 4s/epoch - 11ms/step\n",
            "Epoch 26/50\n",
            "323/323 - 3s - loss: 9.0213e-05 - 3s/epoch - 10ms/step\n",
            "Epoch 27/50\n",
            "323/323 - 3s - loss: 8.7232e-05 - 3s/epoch - 10ms/step\n",
            "Epoch 28/50\n",
            "323/323 - 4s - loss: 8.7527e-05 - 4s/epoch - 12ms/step\n",
            "Epoch 29/50\n",
            "323/323 - 3s - loss: 8.7932e-05 - 3s/epoch - 10ms/step\n",
            "Epoch 30/50\n",
            "323/323 - 3s - loss: 9.0762e-05 - 3s/epoch - 10ms/step\n",
            "Epoch 31/50\n",
            "323/323 - 3s - loss: 8.9524e-05 - 3s/epoch - 10ms/step\n",
            "Epoch 32/50\n",
            "323/323 - 4s - loss: 8.9196e-05 - 4s/epoch - 12ms/step\n",
            "Epoch 33/50\n",
            "323/323 - 3s - loss: 9.0783e-05 - 3s/epoch - 10ms/step\n",
            "Epoch 34/50\n",
            "323/323 - 3s - loss: 8.7752e-05 - 3s/epoch - 10ms/step\n",
            "Epoch 35/50\n",
            "323/323 - 3s - loss: 8.7988e-05 - 3s/epoch - 11ms/step\n",
            "Epoch 36/50\n",
            "323/323 - 4s - loss: 9.0635e-05 - 4s/epoch - 11ms/step\n",
            "Epoch 37/50\n",
            "323/323 - 3s - loss: 8.9151e-05 - 3s/epoch - 10ms/step\n",
            "Epoch 38/50\n",
            "323/323 - 3s - loss: 8.8538e-05 - 3s/epoch - 10ms/step\n",
            "Epoch 39/50\n",
            "323/323 - 4s - loss: 8.9070e-05 - 4s/epoch - 12ms/step\n",
            "Epoch 40/50\n",
            "323/323 - 4s - loss: 8.7438e-05 - 4s/epoch - 11ms/step\n",
            "Epoch 41/50\n",
            "323/323 - 3s - loss: 8.7109e-05 - 3s/epoch - 11ms/step\n",
            "Epoch 42/50\n",
            "323/323 - 3s - loss: 8.9875e-05 - 3s/epoch - 11ms/step\n",
            "Epoch 43/50\n",
            "323/323 - 4s - loss: 9.0582e-05 - 4s/epoch - 12ms/step\n",
            "Epoch 44/50\n",
            "323/323 - 3s - loss: 8.8686e-05 - 3s/epoch - 11ms/step\n",
            "Epoch 45/50\n",
            "323/323 - 3s - loss: 8.8762e-05 - 3s/epoch - 11ms/step\n",
            "Epoch 46/50\n",
            "323/323 - 4s - loss: 8.8182e-05 - 4s/epoch - 11ms/step\n",
            "Epoch 47/50\n",
            "323/323 - 4s - loss: 8.9737e-05 - 4s/epoch - 11ms/step\n",
            "Epoch 48/50\n",
            "323/323 - 3s - loss: 8.6389e-05 - 3s/epoch - 10ms/step\n",
            "Epoch 49/50\n",
            "323/323 - 3s - loss: 9.0165e-05 - 3s/epoch - 10ms/step\n",
            "Epoch 50/50\n",
            "323/323 - 4s - loss: 8.9639e-05 - 4s/epoch - 11ms/step\n",
            "32/32 [==============================] - 0s 3ms/step\n",
            "RMSE: 0.01589495357747274\n",
            "MAE: 0.009322865261659123\n",
            "MAPE: 3.3536234178627935\n"
          ]
        },
        {
          "output_type": "display_data",
          "data": {
            "text/plain": [
              "<Figure size 640x480 with 1 Axes>"
            ],
            "image/png": "[encoded data removed]"
          },
          "metadata": {}
        }
      ]
    },
    {
      "cell_type": "markdown",
      "source": [
        "####Model 2"
      ],
      "metadata": {
        "id": "O0fBmrv0kJHX"
      }
    },
    {
      "cell_type": "code",
      "source": [
        "# ditambah dropout, batch_size=50,\n",
        "K.clear_session()\n",
        "gru_model = Sequential()\n",
        "gru_model.add(GRU(units=50, activation='relu', input_shape=(WINDOW_SIZE, 1)))\n",
        "gru_model.add(Dropout(0.2))\n",
        "gru_model.add(Dense(1))\n",
        "gru_model.compile(optimizer='adam', loss='mean_squared_error')\n",
        "history2_2 = gru_model.fit(df2_train_input, df2_train_output, epochs=50, batch_size=50, verbose=2)\n",
        "\n",
        "predict = gru_model.predict(df2_test_input)\n",
        "\n",
        "rmse2 = np.sqrt(mean_squared_error(df2_test_output, predict))\n",
        "mae2 = mean_absolute_error(df2_test_output, predict)\n",
        "mape2 = np.mean(np.abs((df2_test_output - predict) / df2_test_output)) * 100\n",
        "\n",
        "print(\"RMSE:\", rmse2)\n",
        "print(\"MAE:\", mae2)\n",
        "print(\"MAPE:\", mape2)\n",
        "\n",
        "plt.plot(df2_test_output, label=\"Actual\")\n",
        "plt.plot(predict, label=\"Prediction\")\n",
        "plt.xlabel(\"Index\")\n",
        "plt.ylabel(\"Value\")\n",
        "plt.legend()\n",
        "plt.show()"
      ],
      "metadata": {
        "colab": {
          "base_uri": "https://localhost:8080/",
          "height": 1000
        },
        "id": "Rsbz0wPCkA7T",
        "outputId": "8a9ab280-88f9-475c-8211-50a3d6d77bc6"
      },
      "execution_count": null,
      "outputs": [
        {
          "output_type": "stream",
          "name": "stderr",
          "text": [
            "WARNING:tensorflow:Layer gru will not use cuDNN kernels since it doesn't meet the criteria. It will use a generic GPU kernel as fallback when running on GPU.\n"
          ]
        },
        {
          "output_type": "stream",
          "name": "stdout",
          "text": [
            "Epoch 1/50\n",
            "162/162 - 4s - loss: 0.0055 - 4s/epoch - 22ms/step\n",
            "Epoch 2/50\n",
            "162/162 - 2s - loss: 8.0466e-04 - 2s/epoch - 11ms/step\n",
            "Epoch 3/50\n",
            "162/162 - 2s - loss: 6.9060e-04 - 2s/epoch - 12ms/step\n",
            "Epoch 4/50\n",
            "162/162 - 2s - loss: 6.3151e-04 - 2s/epoch - 13ms/step\n",
            "Epoch 5/50\n",
            "162/162 - 2s - loss: 5.4205e-04 - 2s/epoch - 11ms/step\n",
            "Epoch 6/50\n",
            "162/162 - 2s - loss: 5.6805e-04 - 2s/epoch - 12ms/step\n",
            "Epoch 7/50\n",
            "162/162 - 2s - loss: 5.3077e-04 - 2s/epoch - 11ms/step\n",
            "Epoch 8/50\n",
            "162/162 - 2s - loss: 5.3268e-04 - 2s/epoch - 11ms/step\n",
            "Epoch 9/50\n",
            "162/162 - 2s - loss: 4.8614e-04 - 2s/epoch - 11ms/step\n",
            "Epoch 10/50\n",
            "162/162 - 2s - loss: 5.0371e-04 - 2s/epoch - 11ms/step\n",
            "Epoch 11/50\n",
            "162/162 - 2s - loss: 4.6202e-04 - 2s/epoch - 10ms/step\n",
            "Epoch 12/50\n",
            "162/162 - 2s - loss: 4.7859e-04 - 2s/epoch - 11ms/step\n",
            "Epoch 13/50\n",
            "162/162 - 2s - loss: 4.6775e-04 - 2s/epoch - 12ms/step\n",
            "Epoch 14/50\n",
            "162/162 - 2s - loss: 4.6583e-04 - 2s/epoch - 11ms/step\n",
            "Epoch 15/50\n",
            "162/162 - 2s - loss: 4.4339e-04 - 2s/epoch - 10ms/step\n",
            "Epoch 16/50\n",
            "162/162 - 2s - loss: 4.3442e-04 - 2s/epoch - 11ms/step\n",
            "Epoch 17/50\n",
            "162/162 - 2s - loss: 4.3490e-04 - 2s/epoch - 11ms/step\n",
            "Epoch 18/50\n",
            "162/162 - 2s - loss: 4.2574e-04 - 2s/epoch - 10ms/step\n",
            "Epoch 19/50\n",
            "162/162 - 2s - loss: 4.2868e-04 - 2s/epoch - 11ms/step\n",
            "Epoch 20/50\n",
            "162/162 - 2s - loss: 4.0322e-04 - 2s/epoch - 12ms/step\n",
            "Epoch 21/50\n",
            "162/162 - 2s - loss: 4.2195e-04 - 2s/epoch - 11ms/step\n",
            "Epoch 22/50\n",
            "162/162 - 2s - loss: 4.3867e-04 - 2s/epoch - 10ms/step\n",
            "Epoch 23/50\n",
            "162/162 - 2s - loss: 3.9345e-04 - 2s/epoch - 11ms/step\n",
            "Epoch 24/50\n",
            "162/162 - 2s - loss: 4.0062e-04 - 2s/epoch - 11ms/step\n",
            "Epoch 25/50\n",
            "162/162 - 2s - loss: 3.9796e-04 - 2s/epoch - 11ms/step\n",
            "Epoch 26/50\n",
            "162/162 - 2s - loss: 4.1006e-04 - 2s/epoch - 11ms/step\n",
            "Epoch 27/50\n",
            "162/162 - 2s - loss: 3.8983e-04 - 2s/epoch - 12ms/step\n",
            "Epoch 28/50\n",
            "162/162 - 2s - loss: 3.7488e-04 - 2s/epoch - 12ms/step\n",
            "Epoch 29/50\n",
            "162/162 - 2s - loss: 3.9719e-04 - 2s/epoch - 11ms/step\n",
            "Epoch 30/50\n",
            "162/162 - 2s - loss: 3.8784e-04 - 2s/epoch - 11ms/step\n",
            "Epoch 31/50\n",
            "162/162 - 2s - loss: 3.7398e-04 - 2s/epoch - 11ms/step\n",
            "Epoch 32/50\n",
            "162/162 - 2s - loss: 3.9223e-04 - 2s/epoch - 11ms/step\n",
            "Epoch 33/50\n",
            "162/162 - 2s - loss: 3.8018e-04 - 2s/epoch - 11ms/step\n",
            "Epoch 34/50\n",
            "162/162 - 2s - loss: 3.6519e-04 - 2s/epoch - 11ms/step\n",
            "Epoch 35/50\n",
            "162/162 - 2s - loss: 4.0425e-04 - 2s/epoch - 12ms/step\n",
            "Epoch 36/50\n",
            "162/162 - 2s - loss: 3.9149e-04 - 2s/epoch - 11ms/step\n",
            "Epoch 37/50\n",
            "162/162 - 2s - loss: 3.6989e-04 - 2s/epoch - 10ms/step\n",
            "Epoch 38/50\n",
            "162/162 - 2s - loss: 3.9638e-04 - 2s/epoch - 11ms/step\n",
            "Epoch 39/50\n",
            "162/162 - 2s - loss: 4.0050e-04 - 2s/epoch - 11ms/step\n",
            "Epoch 40/50\n",
            "162/162 - 2s - loss: 3.8554e-04 - 2s/epoch - 10ms/step\n",
            "Epoch 41/50\n",
            "162/162 - 2s - loss: 4.1808e-04 - 2s/epoch - 11ms/step\n",
            "Epoch 42/50\n",
            "162/162 - 2s - loss: 3.8042e-04 - 2s/epoch - 12ms/step\n",
            "Epoch 43/50\n",
            "162/162 - 2s - loss: 3.8317e-04 - 2s/epoch - 12ms/step\n",
            "Epoch 44/50\n",
            "162/162 - 2s - loss: 3.9155e-04 - 2s/epoch - 11ms/step\n",
            "Epoch 45/50\n",
            "162/162 - 2s - loss: 3.9370e-04 - 2s/epoch - 11ms/step\n",
            "Epoch 46/50\n",
            "162/162 - 2s - loss: 3.7644e-04 - 2s/epoch - 11ms/step\n",
            "Epoch 47/50\n",
            "162/162 - 2s - loss: 3.8356e-04 - 2s/epoch - 11ms/step\n",
            "Epoch 48/50\n",
            "162/162 - 2s - loss: 3.7628e-04 - 2s/epoch - 11ms/step\n",
            "Epoch 49/50\n",
            "162/162 - 2s - loss: 3.9321e-04 - 2s/epoch - 13ms/step\n",
            "Epoch 50/50\n",
            "162/162 - 2s - loss: 3.5665e-04 - 2s/epoch - 12ms/step\n",
            "32/32 [==============================] - 0s 3ms/step\n",
            "RMSE: 0.016013674069518067\n",
            "MAE: 0.01028293113300146\n",
            "MAPE: 4.379210360725623\n"
          ]
        },
        {
          "output_type": "display_data",
          "data": {
            "text/plain": [
              "<Figure size 640x480 with 1 Axes>"
            ],
            "image/png": "[encoded data removed]"
          },
          "metadata": {}
        }
      ]
    },
    {
      "cell_type": "markdown",
      "source": [
        "####Model 3"
      ],
      "metadata": {
        "id": "KfrmfNEikYRr"
      }
    },
    {
      "cell_type": "code",
      "source": [
        "# tanh, batch_size=50, epoch=50\n",
        "K.clear_session()\n",
        "gru_model = Sequential()\n",
        "gru_model.add(GRU(units=50, activation='tanh', input_shape=(WINDOW_SIZE, 1)))\n",
        "gru_model.add(Dropout(0.2))\n",
        "gru_model.add(Dense(1))\n",
        "gru_model.compile(optimizer=\"adam\", loss='mean_squared_error')\n",
        "history3_2 = gru_model.fit(df2_train_input, df2_train_output, epochs=50, batch_size=50, verbose=2)\n",
        "\n",
        "predict = gru_model.predict(df2_test_input)\n",
        "\n",
        "rmse3 = np.sqrt(mean_squared_error(df2_test_output, predict))\n",
        "mae3 = mean_absolute_error(df2_test_output, predict)\n",
        "mape3 = np.mean(np.abs((df2_test_output - predict) / df2_test_output)) * 100\n",
        "\n",
        "print(\"RMSE:\", rmse3)\n",
        "print(\"MAE:\", mae3)\n",
        "print(\"MAPE:\", mape3)\n",
        "\n",
        "plt.plot(df2_test_output, label=\"Actual\")\n",
        "plt.plot(predict, label=\"Prediction\")\n",
        "plt.xlabel(\"Index\")\n",
        "plt.ylabel(\"Value\")\n",
        "plt.legend()\n",
        "plt.show()"
      ],
      "metadata": {
        "colab": {
          "base_uri": "https://localhost:8080/",
          "height": 1000
        },
        "id": "CYfcnk4NkXQ2",
        "outputId": "3be43920-41b6-4c1b-df89-5e895a9b8e59"
      },
      "execution_count": null,
      "outputs": [
        {
          "output_type": "stream",
          "name": "stdout",
          "text": [
            "Epoch 1/50\n",
            "162/162 - 2s - loss: 0.0022 - 2s/epoch - 15ms/step\n",
            "Epoch 2/50\n",
            "162/162 - 1s - loss: 4.9291e-04 - 500ms/epoch - 3ms/step\n",
            "Epoch 3/50\n",
            "162/162 - 0s - loss: 4.0932e-04 - 490ms/epoch - 3ms/step\n",
            "Epoch 4/50\n",
            "162/162 - 0s - loss: 3.6932e-04 - 484ms/epoch - 3ms/step\n",
            "Epoch 5/50\n",
            "162/162 - 0s - loss: 3.4449e-04 - 486ms/epoch - 3ms/step\n",
            "Epoch 6/50\n",
            "162/162 - 0s - loss: 2.9941e-04 - 493ms/epoch - 3ms/step\n",
            "Epoch 7/50\n",
            "162/162 - 0s - loss: 2.6864e-04 - 487ms/epoch - 3ms/step\n",
            "Epoch 8/50\n",
            "162/162 - 0s - loss: 2.6416e-04 - 490ms/epoch - 3ms/step\n",
            "Epoch 9/50\n",
            "162/162 - 0s - loss: 2.5879e-04 - 483ms/epoch - 3ms/step\n",
            "Epoch 10/50\n",
            "162/162 - 0s - loss: 2.4390e-04 - 485ms/epoch - 3ms/step\n",
            "Epoch 11/50\n",
            "162/162 - 0s - loss: 2.2239e-04 - 495ms/epoch - 3ms/step\n",
            "Epoch 12/50\n",
            "162/162 - 0s - loss: 2.3773e-04 - 496ms/epoch - 3ms/step\n",
            "Epoch 13/50\n",
            "162/162 - 1s - loss: 2.0745e-04 - 537ms/epoch - 3ms/step\n",
            "Epoch 14/50\n",
            "162/162 - 1s - loss: 2.0859e-04 - 543ms/epoch - 3ms/step\n",
            "Epoch 15/50\n",
            "162/162 - 1s - loss: 2.0220e-04 - 541ms/epoch - 3ms/step\n",
            "Epoch 16/50\n",
            "162/162 - 1s - loss: 1.9059e-04 - 530ms/epoch - 3ms/step\n",
            "Epoch 17/50\n",
            "162/162 - 1s - loss: 1.8910e-04 - 529ms/epoch - 3ms/step\n",
            "Epoch 18/50\n",
            "162/162 - 1s - loss: 2.0195e-04 - 527ms/epoch - 3ms/step\n",
            "Epoch 19/50\n",
            "162/162 - 0s - loss: 1.9662e-04 - 484ms/epoch - 3ms/step\n",
            "Epoch 20/50\n",
            "162/162 - 0s - loss: 1.9625e-04 - 476ms/epoch - 3ms/step\n",
            "Epoch 21/50\n",
            "162/162 - 0s - loss: 1.8808e-04 - 481ms/epoch - 3ms/step\n",
            "Epoch 22/50\n",
            "162/162 - 0s - loss: 1.9041e-04 - 477ms/epoch - 3ms/step\n",
            "Epoch 23/50\n",
            "162/162 - 0s - loss: 1.8574e-04 - 482ms/epoch - 3ms/step\n",
            "Epoch 24/50\n",
            "162/162 - 0s - loss: 1.9238e-04 - 495ms/epoch - 3ms/step\n",
            "Epoch 25/50\n",
            "162/162 - 0s - loss: 1.7437e-04 - 486ms/epoch - 3ms/step\n",
            "Epoch 26/50\n",
            "162/162 - 0s - loss: 2.0102e-04 - 496ms/epoch - 3ms/step\n",
            "Epoch 27/50\n",
            "162/162 - 0s - loss: 1.8309e-04 - 484ms/epoch - 3ms/step\n",
            "Epoch 28/50\n",
            "162/162 - 0s - loss: 1.7655e-04 - 494ms/epoch - 3ms/step\n",
            "Epoch 29/50\n",
            "162/162 - 0s - loss: 1.9094e-04 - 482ms/epoch - 3ms/step\n",
            "Epoch 30/50\n",
            "162/162 - 0s - loss: 1.7899e-04 - 493ms/epoch - 3ms/step\n",
            "Epoch 31/50\n",
            "162/162 - 0s - loss: 1.8178e-04 - 488ms/epoch - 3ms/step\n",
            "Epoch 32/50\n",
            "162/162 - 0s - loss: 1.8674e-04 - 490ms/epoch - 3ms/step\n",
            "Epoch 33/50\n",
            "162/162 - 0s - loss: 1.7676e-04 - 484ms/epoch - 3ms/step\n",
            "Epoch 34/50\n",
            "162/162 - 0s - loss: 1.7877e-04 - 490ms/epoch - 3ms/step\n",
            "Epoch 35/50\n",
            "162/162 - 0s - loss: 1.8182e-04 - 493ms/epoch - 3ms/step\n",
            "Epoch 36/50\n",
            "162/162 - 0s - loss: 1.8054e-04 - 493ms/epoch - 3ms/step\n",
            "Epoch 37/50\n",
            "162/162 - 0s - loss: 1.7241e-04 - 493ms/epoch - 3ms/step\n",
            "Epoch 38/50\n",
            "162/162 - 1s - loss: 1.8653e-04 - 504ms/epoch - 3ms/step\n",
            "Epoch 39/50\n",
            "162/162 - 1s - loss: 1.6860e-04 - 552ms/epoch - 3ms/step\n",
            "Epoch 40/50\n",
            "162/162 - 1s - loss: 1.6184e-04 - 548ms/epoch - 3ms/step\n",
            "Epoch 41/50\n",
            "162/162 - 1s - loss: 1.8100e-04 - 547ms/epoch - 3ms/step\n",
            "Epoch 42/50\n",
            "162/162 - 1s - loss: 1.8423e-04 - 535ms/epoch - 3ms/step\n",
            "Epoch 43/50\n",
            "162/162 - 1s - loss: 1.7495e-04 - 542ms/epoch - 3ms/step\n",
            "Epoch 44/50\n",
            "162/162 - 0s - loss: 1.7080e-04 - 489ms/epoch - 3ms/step\n",
            "Epoch 45/50\n",
            "162/162 - 0s - loss: 1.8100e-04 - 483ms/epoch - 3ms/step\n",
            "Epoch 46/50\n",
            "162/162 - 0s - loss: 1.7757e-04 - 492ms/epoch - 3ms/step\n",
            "Epoch 47/50\n",
            "162/162 - 0s - loss: 1.7490e-04 - 487ms/epoch - 3ms/step\n",
            "Epoch 48/50\n",
            "162/162 - 0s - loss: 1.7217e-04 - 488ms/epoch - 3ms/step\n",
            "Epoch 49/50\n",
            "162/162 - 0s - loss: 1.8006e-04 - 483ms/epoch - 3ms/step\n",
            "Epoch 50/50\n",
            "162/162 - 0s - loss: 1.8220e-04 - 487ms/epoch - 3ms/step\n",
            "32/32 [==============================] - 0s 2ms/step\n",
            "RMSE: 0.015741271313841645\n",
            "MAE: 0.009134035177358554\n",
            "MAPE: 3.2401388525123247\n"
          ]
        },
        {
          "output_type": "display_data",
          "data": {
            "text/plain": [
              "<Figure size 640x480 with 1 Axes>"
            ],
            "image/png": "[encoded data removed]"
          },
          "metadata": {}
        }
      ]
    },
    {
      "cell_type": "markdown",
      "source": [
        "####Evaluate"
      ],
      "metadata": {
        "id": "gyR-wZ5OkoS3"
      }
    },
    {
      "cell_type": "code",
      "source": [
        "print('Baseline Model:')\n",
        "print(\"RMSE:\", rmse)\n",
        "print(\"MAE:\", mae)\n",
        "print(\"MAPE:\", mape)\n",
        "print('\\n')\n",
        "print('Model 1:')\n",
        "print(\"RMSE:\", rmse1)\n",
        "print(\"MAE:\", mae1)\n",
        "print(\"MAPE:\", mape1)\n",
        "print('\\n')\n",
        "print('Model 2:')\n",
        "print(\"RMSE:\", rmse2)\n",
        "print(\"MAE:\", mae2)\n",
        "print(\"MAPE:\", mape2)\n",
        "print('\\n')\n",
        "print('Model 3:')\n",
        "print(\"RMSE:\", rmse3)\n",
        "print(\"MAE:\", mae3)\n",
        "print(\"MAPE:\", mape3)"
      ],
      "metadata": {
        "colab": {
          "base_uri": "https://localhost:8080/"
        },
        "id": "QA-L6boCkndc",
        "outputId": "4349ac0d-9921-47bf-a67b-21d93d85bda6"
      },
      "execution_count": null,
      "outputs": [
        {
          "output_type": "stream",
          "name": "stdout",
          "text": [
            "Baseline Model:\n",
            "RMSE: 0.017865297357231583\n",
            "MAE: 0.01136401104758976\n",
            "MAPE: 4.117691578335568\n",
            "\n",
            "\n",
            "Model 1:\n",
            "RMSE: 0.01589495357747274\n",
            "MAE: 0.009322865261659123\n",
            "MAPE: 3.3536234178627935\n",
            "\n",
            "\n",
            "Model 2:\n",
            "RMSE: 0.016013674069518067\n",
            "MAE: 0.01028293113300146\n",
            "MAPE: 4.379210360725623\n",
            "\n",
            "\n",
            "Model 3:\n",
            "RMSE: 0.015741271313841645\n",
            "MAE: 0.009134035177358554\n",
            "MAPE: 3.2401388525123247\n"
          ]
        }
      ]
    }
  ]
}